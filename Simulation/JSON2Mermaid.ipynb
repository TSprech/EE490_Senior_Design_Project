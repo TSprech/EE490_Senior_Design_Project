{
 "cells": [
  {
   "cell_type": "code",
   "execution_count": 14,
   "outputs": [
    {
     "data": {
      "text/html": "<img src=\"https://mermaid.ink/img/CmdyYXBoIExSOwogICAgQS0tPiBCIC0tPiBDIC0tPiBEOwogICAgQi0tPiBBICYgRTsKICAgIEMtLT4gQSAmIEU7CiAgICBELS0+IEEgJiBFOwogICAgRS0tPiBCICYgQyAmIEQ7Cg==\"/>",
      "text/plain": "<IPython.core.display.Image object>"
     },
     "metadata": {},
     "output_type": "display_data"
    }
   ],
   "source": [
    "import base64\n",
    "import json\n",
    "\n",
    "from IPython.display import Image, display\n",
    "\n",
    "def mm(graph):\n",
    "  graphbytes = graph.encode(\"ascii\")\n",
    "  base64_bytes = base64.b64encode(graphbytes)\n",
    "  base64_string = base64_bytes.decode(\"ascii\")\n",
    "  display(Image(url=\"https://mermaid.ink/img/\" + base64_string))\n",
    "\n",
    "mm(\"\"\"\n",
    "graph LR;\n",
    "    A--> B --> C --> D;\n",
    "    B--> A & E;\n",
    "    C--> A & E;\n",
    "    D--> A & E;\n",
    "    E--> B & C & D;\n",
    "\"\"\")"
   ],
   "metadata": {
    "collapsed": false,
    "ExecuteTime": {
     "end_time": "2023-06-16T23:37:12.460757600Z",
     "start_time": "2023-06-16T23:37:12.458073500Z"
    }
   }
  },
  {
   "cell_type": "code",
   "execution_count": 39,
   "outputs": [
    {
     "name": "stdout",
     "output_type": "stream",
     "text": [
      "Node('/G0I0')\n",
      "├── Node('/G0I0/G1I2')\n",
      "└── Node('/G0I0/G1I3')\n",
      "    └── Node('/G0I0/G1I3/G2I0')\n",
      "        ├── Node('/G0I0/G1I3/G2I0/G3I0')\n",
      "        │   └── Node('/G0I0/G1I3/G2I0/G3I0/G4I2')\n",
      "        ├── Node('/G0I0/G1I3/G2I0/G3I1')\n",
      "        │   └── Node('/G0I0/G1I3/G2I0/G3I1/G4I3')\n",
      "        └── Node('/G0I0/G1I3/G2I0/G3I3')\n",
      "            └── Node('/G0I0/G1I3/G2I0/G3I3/G4I0')\n",
      "G0I0-->G1I2-->\n",
      "G0I0-->G1I3-->G2I0-->G3I0-->G4I2-->\n",
      "G0I0-->G1I3-->G2I0-->G3I1-->G4I3-->\n",
      "G0I0-->G1I3-->G2I0-->G3I3-->G4I0-->\n"
     ]
    }
   ],
   "source": [
    "import json\n",
    "import rich\n",
    "import rich.pretty\n",
    "from anytree import Node, RenderTree, PreOrderIter\n",
    "\n",
    "data = {}\n",
    "\n",
    "with open('outfile.json') as f:\n",
    "  for ind in json.load(f):\n",
    "    if ind['Parent'] == 'Origin':\n",
    "      data[f\"{ind['Name']}\"] = Node(f\"{ind['Name']}\")\n",
    "    else:\n",
    "      data[f\"{ind['Name']}\"] = Node(f\"{ind['Name']}\", parent=data[f\"{ind['Parent']}\"])\n",
    "\n",
    "  print(RenderTree(data['G0I0']))\n",
    "  # print(str(data['G0I0']))\n",
    "\n",
    "  def iter_fulltrajectories(root):\n",
    "   for node in PreOrderIter(root, filter_=lambda node: node.is_leaf):\n",
    "     yield [node.name for node in node.path]\n",
    "\n",
    "  for path in list(iter_fulltrajectories(data['G0I0'])):\n",
    "    for item in path:\n",
    "      print(f'{item}-->', end='')\n",
    "    print()"
   ],
   "metadata": {
    "collapsed": false,
    "ExecuteTime": {
     "end_time": "2023-06-17T00:20:16.743789400Z",
     "start_time": "2023-06-17T00:20:16.739210700Z"
    }
   }
  },
  {
   "cell_type": "code",
   "execution_count": 42,
   "outputs": [
    {
     "data": {
      "text/html": "<img src=\"https://mermaid.ink/img/CmdyYXBoIFREOwogIEcwSTAtLT5HMUkyCiAgRzBJMC0tPkcxSTMtLT5HMkkwLS0+RzNJMC0tPkc0STIKICBHMkkwLS0+RzNJMS0tPkc0STMKICBHMkkwLS0+RzNJMy0tPkc0STAK\"/>",
      "text/plain": "<IPython.core.display.Image object>"
     },
     "metadata": {},
     "output_type": "display_data"
    }
   ],
   "source": [
    "import base64\n",
    "import json\n",
    "\n",
    "from IPython.display import Image, display\n",
    "\n",
    "def mm(graph):\n",
    "  graphbytes = graph.encode(\"ascii\")\n",
    "  base64_bytes = base64.b64encode(graphbytes)\n",
    "  base64_string = base64_bytes.decode(\"ascii\")\n",
    "  display(Image(url=\"https://mermaid.ink/img/\" + base64_string))\n",
    "\n",
    "mm(\"\"\"\n",
    "graph TD;\n",
    "  G0I0-->G1I2\n",
    "  G0I0-->G1I3-->G2I0-->G3I0-->G4I2\n",
    "  G0I0-->G1I3-->G2I0-->G3I1-->G4I3\n",
    "  G0I0-->G1I3-->G2I0-->G3I3-->G4I0\n",
    "\"\"\")"
   ],
   "metadata": {
    "collapsed": false,
    "ExecuteTime": {
     "end_time": "2023-06-17T00:25:06.495914500Z",
     "start_time": "2023-06-17T00:25:06.493266500Z"
    }
   }
  }
 ],
 "metadata": {
  "kernelspec": {
   "display_name": "Python 3",
   "language": "python",
   "name": "python3"
  },
  "language_info": {
   "codemirror_mode": {
    "name": "ipython",
    "version": 2
   },
   "file_extension": ".py",
   "mimetype": "text/x-python",
   "name": "python",
   "nbconvert_exporter": "python",
   "pygments_lexer": "ipython2",
   "version": "2.7.6"
  }
 },
 "nbformat": 4,
 "nbformat_minor": 0
}
