{
 "cells": [
  {
   "cell_type": "code",
   "execution_count": 14,
   "outputs": [
    {
     "data": {
      "text/html": "<img src=\"https://mermaid.ink/img/CmdyYXBoIExSOwogICAgQS0tPiBCIC0tPiBDIC0tPiBEOwogICAgQi0tPiBBICYgRTsKICAgIEMtLT4gQSAmIEU7CiAgICBELS0+IEEgJiBFOwogICAgRS0tPiBCICYgQyAmIEQ7Cg==\"/>",
      "text/plain": "<IPython.core.display.Image object>"
     },
     "metadata": {},
     "output_type": "display_data"
    }
   ],
   "source": [
    "import base64\n",
    "import json\n",
    "\n",
    "from IPython.display import Image, display\n",
    "\n",
    "def mm(graph):\n",
    "  graphbytes = graph.encode(\"ascii\")\n",
    "  base64_bytes = base64.b64encode(graphbytes)\n",
    "  base64_string = base64_bytes.decode(\"ascii\")\n",
    "  display(Image(url=\"https://mermaid.ink/img/\" + base64_string))\n",
    "\n",
    "mm(\"\"\"\n",
    "graph LR;\n",
    "    A--> B --> C --> D;\n",
    "    B--> A & E;\n",
    "    C--> A & E;\n",
    "    D--> A & E;\n",
    "    E--> B & C & D;\n",
    "\"\"\")"
   ],
   "metadata": {
    "collapsed": false,
    "ExecuteTime": {
     "end_time": "2023-06-16T23:37:12.460757600Z",
     "start_time": "2023-06-16T23:37:12.458073500Z"
    }
   }
  },
  {
   "cell_type": "code",
   "execution_count": 75,
   "outputs": [
    {
     "name": "stdout",
     "output_type": "stream",
     "text": [
      "G0I0\n",
      "G0I1\n",
      "G0I2--C4 +1-->G1I18\n",
      "G0I3---->G1I0\n",
      "G1I0---->G2I11\n",
      "G1I0--FREQUENCY -391550-->G2I13\n",
      "G0I3--C2 +1-->G1I13\n",
      "G1I13--C2 +1-->G2I0\n",
      "G1I13--C2 -138-->G2I3\n",
      "G0I3--L1 +1-->G1I16\n",
      "G1I16---->G2I9\n",
      "G1I16--L1 -33-->G2I15\n",
      "G0I4--C4 -121-->G1I3\n",
      "G1I3--C2 -107-->G2I12\n",
      "G0I4---->G1I5\n",
      "G1I5--L1 +1-->G2I4\n",
      "G1I5---->G2I17\n",
      "G0I4---->G1I8\n",
      "G0I4--C1 +1-->G1I15\n",
      "G0I4---->G1I17\n",
      "G1I17---->G2I6\n",
      "G1I17---->G2I7\n",
      "G1I17--C4 -33-->G2I10\n",
      "G1I17---->G2I14\n",
      "G0I5\n",
      "G0I6\n",
      "G0I7---->G1I11\n",
      "G1I11---->G2I1\n",
      "G0I8\n",
      "G0I9\n",
      "G0I10---->G1I1\n",
      "G0I10---->G1I9\n",
      "G1I9--C1 -62-->G2I18\n",
      "G0I11--C1 +1-->G1I4\n",
      "G0I11--C3 +1-->G1I7\n",
      "G1I7--FREQUENCY -779261-->G2I8\n",
      "G1I7--FREQUENCY +1-->G2I16\n",
      "G0I11---->G1I10\n",
      "G0I11--C3 -24-->G1I14\n",
      "G1I14--L1 +1-->G2I5\n",
      "G0I12\n",
      "G0I13--C1 +1-->G1I6\n",
      "G0I14\n",
      "G0I15\n",
      "G0I16\n",
      "G0I17---->G1I2\n",
      "G0I17--C1 -4-->G1I12\n",
      "G1I12---->G2I2\n",
      "G0I18\n"
     ]
    }
   ],
   "source": [
    "import json\n",
    "import rich\n",
    "import rich.pretty\n",
    "from anytree import Node, RenderTree, PreOrderIter\n",
    "\n",
    "data = {}\n",
    "\n",
    "with open('outfile.json') as f:\n",
    "  for ind in json.load(f):\n",
    "    if ind['Parent'] == 'Origin':\n",
    "      data[f\"{ind['Name']}\"] = Node(f\"{ind['Name']}\", fitness=ind)\n",
    "    else:\n",
    "      data[f\"{ind['Name']}\"] = Node(f\"{ind['Name']}\", parent=data[f\"{ind['Parent']}\"], fitness=ind)\n",
    "\n",
    "  # print(RenderTree(data['G0I0']))\n",
    "  # print(str(data['G0I0']))\n",
    "\n",
    "  for individual_name in [origin for origin in data if 'G0' in origin]:\n",
    "    for item in [node for node in PreOrderIter(data[individual_name])]:\n",
    "      if item.parent is not None:  # This is the case for origin nodes (generation 0)\n",
    "        print(f'{item.parent.name}--', end='')  # Create a Mermaid arrow\n",
    "        if item.fitness['Mutations']:\n",
    "          for mutation in item.fitness['Mutations']:\n",
    "            key, value = list(mutation.items())[0]  # Since it is a list of dicts with one entry each, grab that one entry\n",
    "            print(f'{key} {\"+\" if value > 0 else \"\"}{value}', end='')\n",
    "        print(f'-->{item.name}')\n",
    "      else:\n",
    "        if item.is_leaf:  # Handles the case where an individual does not pass any genes on\n",
    "          print(item.name)  # It is just represeted as a box with no arrows"
   ],
   "metadata": {
    "collapsed": false,
    "ExecuteTime": {
     "end_time": "2023-06-17T13:51:06.880994700Z",
     "start_time": "2023-06-17T13:51:06.868655100Z"
    }
   }
  },
  {
   "cell_type": "code",
   "execution_count": 76,
   "outputs": [
    {
     "data": {
      "text/html": "<img src=\"https://mermaid.ink/img/CmdyYXBoIFREOwpHMEkwCkcwSTEKRzBJMi0tQzQgKzEtLT5HMUkxOApHMEkzLS0tLT5HMUkwCkcxSTAtLS0tPkcySTExCkcxSTAtLUZSRVFVRU5DWSAtMzkxNTUwLS0+RzJJMTMKRzBJMy0tQzIgKzEtLT5HMUkxMwpHMUkxMy0tQzIgKzEtLT5HMkkwCkcxSTEzLS1DMiAtMTM4LS0+RzJJMwpHMEkzLS1MMSArMS0tPkcxSTE2CkcxSTE2LS0tLT5HMkk5CkcxSTE2LS1MMSAtMzMtLT5HMkkxNQpHMEk0LS1DNCAtMTIxLS0+RzFJMwpHMUkzLS1DMiAtMTA3LS0+RzJJMTIKRzBJNC0tLS0+RzFJNQpHMUk1LS1MMSArMS0tPkcySTQKRzFJNS0tLS0+RzJJMTcKRzBJNC0tLS0+RzFJOApHMEk0LS1DMSArMS0tPkcxSTE1CkcwSTQtLS0tPkcxSTE3CkcxSTE3LS0tLT5HMkk2CkcxSTE3LS0tLT5HMkk3CkcxSTE3LS1DNCAtMzMtLT5HMkkxMApHMUkxNy0tLS0+RzJJMTQKRzBJNQpHMEk2CkcwSTctLS0tPkcxSTExCkcxSTExLS0tLT5HMkkxCkcwSTgKRzBJOQpHMEkxMC0tLS0+RzFJMQpHMEkxMC0tLS0+RzFJOQpHMUk5LS1DMSAtNjItLT5HMkkxOApHMEkxMS0tQzEgKzEtLT5HMUk0CkcwSTExLS1DMyArMS0tPkcxSTcKRzFJNy0tRlJFUVVFTkNZIC03NzkyNjEtLT5HMkk4CkcxSTctLUZSRVFVRU5DWSArMS0tPkcySTE2CkcwSTExLS0tLT5HMUkxMApHMEkxMS0tQzMgLTI0LS0+RzFJMTQKRzFJMTQtLUwxICsxLS0+RzJJNQpHMEkxMgpHMEkxMy0tQzEgKzEtLT5HMUk2CkcwSTE0CkcwSTE1CkcwSTE2CkcwSTE3LS0tLT5HMUkyCkcwSTE3LS1DMSAtNC0tPkcxSTEyCkcxSTEyLS0tLT5HMkkyCkcwSTE4Cgo=\"/>",
      "text/plain": "<IPython.core.display.Image object>"
     },
     "metadata": {},
     "output_type": "display_data"
    }
   ],
   "source": [
    "import base64\n",
    "import json\n",
    "\n",
    "from IPython.display import Image, display\n",
    "\n",
    "def mm(graph):\n",
    "  graphbytes = graph.encode(\"ascii\")\n",
    "  base64_bytes = base64.b64encode(graphbytes)\n",
    "  base64_string = base64_bytes.decode(\"ascii\")\n",
    "  display(Image(url=\"https://mermaid.ink/img/\" + base64_string))\n",
    "\n",
    "mm(\"\"\"\n",
    "graph TD;\n",
    "G0I0\n",
    "G0I1\n",
    "G0I2--C4 +1-->G1I18\n",
    "G0I3---->G1I0\n",
    "G1I0---->G2I11\n",
    "G1I0--FREQUENCY -391550-->G2I13\n",
    "G0I3--C2 +1-->G1I13\n",
    "G1I13--C2 +1-->G2I0\n",
    "G1I13--C2 -138-->G2I3\n",
    "G0I3--L1 +1-->G1I16\n",
    "G1I16---->G2I9\n",
    "G1I16--L1 -33-->G2I15\n",
    "G0I4--C4 -121-->G1I3\n",
    "G1I3--C2 -107-->G2I12\n",
    "G0I4---->G1I5\n",
    "G1I5--L1 +1-->G2I4\n",
    "G1I5---->G2I17\n",
    "G0I4---->G1I8\n",
    "G0I4--C1 +1-->G1I15\n",
    "G0I4---->G1I17\n",
    "G1I17---->G2I6\n",
    "G1I17---->G2I7\n",
    "G1I17--C4 -33-->G2I10\n",
    "G1I17---->G2I14\n",
    "G0I5\n",
    "G0I6\n",
    "G0I7---->G1I11\n",
    "G1I11---->G2I1\n",
    "G0I8\n",
    "G0I9\n",
    "G0I10---->G1I1\n",
    "G0I10---->G1I9\n",
    "G1I9--C1 -62-->G2I18\n",
    "G0I11--C1 +1-->G1I4\n",
    "G0I11--C3 +1-->G1I7\n",
    "G1I7--FREQUENCY -779261-->G2I8\n",
    "G1I7--FREQUENCY +1-->G2I16\n",
    "G0I11---->G1I10\n",
    "G0I11--C3 -24-->G1I14\n",
    "G1I14--L1 +1-->G2I5\n",
    "G0I12\n",
    "G0I13--C1 +1-->G1I6\n",
    "G0I14\n",
    "G0I15\n",
    "G0I16\n",
    "G0I17---->G1I2\n",
    "G0I17--C1 -4-->G1I12\n",
    "G1I12---->G2I2\n",
    "G0I18\n",
    "\"\"\")"
   ],
   "metadata": {
    "collapsed": false,
    "ExecuteTime": {
     "end_time": "2023-06-17T13:51:19.598687900Z",
     "start_time": "2023-06-17T13:51:19.586792200Z"
    }
   }
  }
 ],
 "metadata": {
  "kernelspec": {
   "display_name": "Python 3",
   "language": "python",
   "name": "python3"
  },
  "language_info": {
   "codemirror_mode": {
    "name": "ipython",
    "version": 2
   },
   "file_extension": ".py",
   "mimetype": "text/x-python",
   "name": "python",
   "nbconvert_exporter": "python",
   "pygments_lexer": "ipython2",
   "version": "2.7.6"
  }
 },
 "nbformat": 4,
 "nbformat_minor": 0
}
