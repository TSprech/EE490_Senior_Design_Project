{
 "cells": [
  {
   "cell_type": "code",
   "execution_count": 14,
   "outputs": [
    {
     "data": {
      "text/html": "<img src=\"https://mermaid.ink/img/CmdyYXBoIExSOwogICAgQS0tPiBCIC0tPiBDIC0tPiBEOwogICAgQi0tPiBBICYgRTsKICAgIEMtLT4gQSAmIEU7CiAgICBELS0+IEEgJiBFOwogICAgRS0tPiBCICYgQyAmIEQ7Cg==\"/>",
      "text/plain": "<IPython.core.display.Image object>"
     },
     "metadata": {},
     "output_type": "display_data"
    }
   ],
   "source": [
    "import base64\n",
    "import json\n",
    "\n",
    "from IPython.display import Image, display\n",
    "\n",
    "def mm(graph):\n",
    "  graphbytes = graph.encode(\"ascii\")\n",
    "  base64_bytes = base64.b64encode(graphbytes)\n",
    "  base64_string = base64_bytes.decode(\"ascii\")\n",
    "  display(Image(url=\"https://mermaid.ink/img/\" + base64_string))\n",
    "\n",
    "mm(\"\"\"\n",
    "graph LR;\n",
    "    A--> B --> C --> D;\n",
    "    B--> A & E;\n",
    "    C--> A & E;\n",
    "    D--> A & E;\n",
    "    E--> B & C & D;\n",
    "\"\"\")"
   ],
   "metadata": {
    "collapsed": false,
    "ExecuteTime": {
     "end_time": "2023-06-16T23:37:12.460757600Z",
     "start_time": "2023-06-16T23:37:12.458073500Z"
    }
   }
  },
  {
   "cell_type": "code",
   "execution_count": 64,
   "outputs": [
    {
     "name": "stdout",
     "output_type": "stream",
     "text": [
      "G0I0\n",
      "G0I1\n",
      "G0I2-->G1I18\n",
      "G0I3-->G1I0\n",
      "G1I0-->G2I11\n",
      "G1I0-->G2I13\n",
      "G0I3-->G1I13\n",
      "G1I13-->G2I0\n",
      "G1I13-->G2I3\n",
      "G0I3-->G1I16\n",
      "G1I16-->G2I9\n",
      "G1I16-->G2I15\n",
      "G0I4-->G1I3\n",
      "G1I3-->G2I12\n",
      "G0I4-->G1I5\n",
      "G1I5-->G2I4\n",
      "G1I5-->G2I17\n",
      "G0I4-->G1I8\n",
      "G0I4-->G1I15\n",
      "G0I4-->G1I17\n",
      "G1I17-->G2I6\n",
      "G1I17-->G2I7\n",
      "G1I17-->G2I10\n",
      "G1I17-->G2I14\n",
      "G0I5\n",
      "G0I6\n",
      "G0I7-->G1I11\n",
      "G1I11-->G2I1\n",
      "G0I8\n",
      "G0I9\n",
      "G0I10-->G1I1\n",
      "G0I10-->G1I9\n",
      "G1I9-->G2I18\n",
      "G0I11-->G1I4\n",
      "G0I11-->G1I7\n",
      "G1I7-->G2I8\n",
      "G1I7-->G2I16\n",
      "G0I11-->G1I10\n",
      "G0I11-->G1I14\n",
      "G1I14-->G2I5\n",
      "G0I12\n",
      "G0I13-->G1I6\n",
      "G0I14\n",
      "G0I15\n",
      "G0I16\n",
      "G0I17-->G1I2\n",
      "G0I17-->G1I12\n",
      "G1I12-->G2I2\n",
      "G0I18\n"
     ]
    }
   ],
   "source": [
    "import json\n",
    "import rich\n",
    "import rich.pretty\n",
    "from anytree import Node, RenderTree, PreOrderIter\n",
    "\n",
    "data = {}\n",
    "\n",
    "with open('outfile.json') as f:\n",
    "  for ind in json.load(f):\n",
    "    if ind['Parent'] == 'Origin':\n",
    "      data[f\"{ind['Name']}\"] = Node(f\"{ind['Name']}\")\n",
    "    else:\n",
    "      data[f\"{ind['Name']}\"] = Node(f\"{ind['Name']}\", parent=data[f\"{ind['Parent']}\"])\n",
    "\n",
    "  # print(RenderTree(data['G0I0']))\n",
    "  # print(str(data['G0I0']))\n",
    "\n",
    "  for key in [origin for origin in data if 'G0' in origin]:\n",
    "    for item in [node for node in PreOrderIter(data[key])]:\n",
    "      if item.parent is not None:  # This is the case for origin nodes (generation 0)\n",
    "        print(f'{item.parent.name}-->{item.name}')\n",
    "      else:\n",
    "        if item.is_leaf:  # Handles the case where an individual does not pass any genes on\n",
    "          print(item.name)  # It is just represeted as a box with no arrows"
   ],
   "metadata": {
    "collapsed": false,
    "ExecuteTime": {
     "end_time": "2023-06-17T13:33:54.122065500Z",
     "start_time": "2023-06-17T13:33:54.112918100Z"
    }
   }
  },
  {
   "cell_type": "code",
   "execution_count": 65,
   "outputs": [
    {
     "data": {
      "text/html": "<img src=\"https://mermaid.ink/img/CmdyYXBoIFREOwpHMEkwCkcwSTEKRzBJMi0tPkcxSTE4CkcwSTMtLT5HMUkwCkcxSTAtLT5HMkkxMQpHMUkwLS0+RzJJMTMKRzBJMy0tPkcxSTEzCkcxSTEzLS0+RzJJMApHMUkxMy0tPkcySTMKRzBJMy0tPkcxSTE2CkcxSTE2LS0+RzJJOQpHMUkxNi0tPkcySTE1CkcwSTQtLT5HMUkzCkcxSTMtLT5HMkkxMgpHMEk0LS0+RzFJNQpHMUk1LS0+RzJJNApHMUk1LS0+RzJJMTcKRzBJNC0tPkcxSTgKRzBJNC0tPkcxSTE1CkcwSTQtLT5HMUkxNwpHMUkxNy0tPkcySTYKRzFJMTctLT5HMkk3CkcxSTE3LS0+RzJJMTAKRzFJMTctLT5HMkkxNApHMEk1CkcwSTYKRzBJNy0tPkcxSTExCkcxSTExLS0+RzJJMQpHMEk4CkcwSTkKRzBJMTAtLT5HMUkxCkcwSTEwLS0+RzFJOQpHMUk5LS0+RzJJMTgKRzBJMTEtLT5HMUk0CkcwSTExLS0+RzFJNwpHMUk3LS0+RzJJOApHMUk3LS0+RzJJMTYKRzBJMTEtLT5HMUkxMApHMEkxMS0tPkcxSTE0CkcxSTE0LS0+RzJJNQpHMEkxMgpHMEkxMy0tPkcxSTYKRzBJMTQKRzBJMTUKRzBJMTYKRzBJMTctLT5HMUkyCkcwSTE3LS0+RzFJMTIKRzFJMTItLT5HMkkyCkcwSTE4Cg==\"/>",
      "text/plain": "<IPython.core.display.Image object>"
     },
     "metadata": {},
     "output_type": "display_data"
    }
   ],
   "source": [
    "import base64\n",
    "import json\n",
    "\n",
    "from IPython.display import Image, display\n",
    "\n",
    "def mm(graph):\n",
    "  graphbytes = graph.encode(\"ascii\")\n",
    "  base64_bytes = base64.b64encode(graphbytes)\n",
    "  base64_string = base64_bytes.decode(\"ascii\")\n",
    "  display(Image(url=\"https://mermaid.ink/img/\" + base64_string))\n",
    "\n",
    "mm(\"\"\"\n",
    "graph TD;\n",
    "G0I0\n",
    "G0I1\n",
    "G0I2-->G1I18\n",
    "G0I3-->G1I0\n",
    "G1I0-->G2I11\n",
    "G1I0-->G2I13\n",
    "G0I3-->G1I13\n",
    "G1I13-->G2I0\n",
    "G1I13-->G2I3\n",
    "G0I3-->G1I16\n",
    "G1I16-->G2I9\n",
    "G1I16-->G2I15\n",
    "G0I4-->G1I3\n",
    "G1I3-->G2I12\n",
    "G0I4-->G1I5\n",
    "G1I5-->G2I4\n",
    "G1I5-->G2I17\n",
    "G0I4-->G1I8\n",
    "G0I4-->G1I15\n",
    "G0I4-->G1I17\n",
    "G1I17-->G2I6\n",
    "G1I17-->G2I7\n",
    "G1I17-->G2I10\n",
    "G1I17-->G2I14\n",
    "G0I5\n",
    "G0I6\n",
    "G0I7-->G1I11\n",
    "G1I11-->G2I1\n",
    "G0I8\n",
    "G0I9\n",
    "G0I10-->G1I1\n",
    "G0I10-->G1I9\n",
    "G1I9-->G2I18\n",
    "G0I11-->G1I4\n",
    "G0I11-->G1I7\n",
    "G1I7-->G2I8\n",
    "G1I7-->G2I16\n",
    "G0I11-->G1I10\n",
    "G0I11-->G1I14\n",
    "G1I14-->G2I5\n",
    "G0I12\n",
    "G0I13-->G1I6\n",
    "G0I14\n",
    "G0I15\n",
    "G0I16\n",
    "G0I17-->G1I2\n",
    "G0I17-->G1I12\n",
    "G1I12-->G2I2\n",
    "G0I18\n",
    "\"\"\")"
   ],
   "metadata": {
    "collapsed": false,
    "ExecuteTime": {
     "end_time": "2023-06-17T13:34:06.100536500Z",
     "start_time": "2023-06-17T13:34:06.085358700Z"
    }
   }
  }
 ],
 "metadata": {
  "kernelspec": {
   "display_name": "Python 3",
   "language": "python",
   "name": "python3"
  },
  "language_info": {
   "codemirror_mode": {
    "name": "ipython",
    "version": 2
   },
   "file_extension": ".py",
   "mimetype": "text/x-python",
   "name": "python",
   "nbconvert_exporter": "python",
   "pygments_lexer": "ipython2",
   "version": "2.7.6"
  }
 },
 "nbformat": 4,
 "nbformat_minor": 0
}
