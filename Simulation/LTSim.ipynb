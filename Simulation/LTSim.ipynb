{
 "cells": [
  {
   "cell_type": "code",
   "execution_count": 3,
   "metadata": {
    "collapsed": true,
    "ExecuteTime": {
     "start_time": "2023-04-26T11:23:25.182726Z",
     "end_time": "2023-04-26T11:23:27.946374Z"
    }
   },
   "outputs": [
    {
     "name": "stdout",
     "output_type": "stream",
     "text": [
      "Using LTspice installed in : 'C:\\Users\\treys\\AppData\\Local\\Programs\\ADI\\LTspice\\LTspice.exe' \n",
      "Creating Netlist\n",
      "The Netlist was successfully created\n"
     ]
    }
   ],
   "source": [
    "# import PyLTSpice.raw_read\n",
    "import numpy as np\n",
    "from PyLTSpice import SimCommander, RawRead\n",
    "\n",
    "high_side = True\n",
    "low_side = False\n",
    "\n",
    "def frequencytoltpulse(frequency, side: bool):\n",
    "    deadband = 8  # ns\n",
    "    period = 1 / (frequency / 1E9)  # Convert to Gigahertz to ensure the period will be in nanoseconds\n",
    "    if side == low_side:\n",
    "        return f\"PULSE(3.3 0 0n 1n 1n {period + (deadband * 2)}n {period * 2}n)\"\n",
    "    else:\n",
    "        return f\"PULSE(0 3.3 {deadband}n 1n 1n {period}n {period * 2}n)\"\n",
    "\n",
    "fsw = 100E3\n",
    "L = 10E-6\n",
    "C = 47E-6\n",
    "\n",
    "# select spice model\n",
    "LTC = SimCommander(\"LTFiles/EPC23102_Mine.asc\")\n",
    "# set default arguments\n",
    "LTC.set_component_value('VHSin', frequencytoltpulse(fsw, high_side))\n",
    "LTC.set_component_value('VLSin', frequencytoltpulse(fsw, low_side))"
   ]
  },
  {
   "cell_type": "code",
   "execution_count": 4,
   "outputs": [
    {
     "name": "stdout",
     "output_type": "stream",
     "text": [
      "Wed Apr 26 11:23:33 2023 : Starting simulation 1\n"
     ]
    },
    {
     "data": {
      "text/plain": "<RunTask(sim1, started 10420)>"
     },
     "execution_count": 4,
     "metadata": {},
     "output_type": "execute_result"
    }
   ],
   "source": [
    "run_netlist_file = f'LTFiles/F{fsw}_L{L}_C{C}'\n",
    "LTC.run(run_filename=f'{run_netlist_file}.net')"
   ],
   "metadata": {
    "collapsed": false,
    "ExecuteTime": {
     "start_time": "2023-04-26T11:23:33.258129Z",
     "end_time": "2023-04-26T11:23:33.285079Z"
    }
   }
  },
  {
   "cell_type": "code",
   "execution_count": 10,
   "outputs": [
    {
     "name": "stdout",
     "output_type": "stream",
     "text": [
      "Reading file with encoding  utf_16_le\n",
      "File contains 31 traces, reading 31\n",
      "Binary RAW file with Normal access\n",
      "5.0156527\n",
      "0.9329524\n",
      "Eff: 86.00107431411743\n"
     ]
    }
   ],
   "source": [
    "LTR = RawRead(f'{run_netlist_file}.raw')\n",
    "# print(LTR.get_trace_names())\n",
    "\n",
    "class LTTraceData:\n",
    "    def __init__(self, raw_file, trace_name: str):\n",
    "        raw_data = raw_file.get_trace(trace_name)\n",
    "        self.data = np.array(raw_data)\n",
    "\n",
    "    # @property\n",
    "    # def data(self):\n",
    "    #     return self.data\n",
    "    #\n",
    "    # @data.setter\n",
    "    # def data(self, value):\n",
    "    #     self._data = value\n",
    "\n",
    "    @property\n",
    "    def average(self):\n",
    "        return np.average(self.data)\n",
    "\n",
    "    @property\n",
    "    def peak_to_peak(self):\n",
    "        return np.ptp(self.data)\n",
    "\n",
    "    @property\n",
    "    def rms(self):\n",
    "        return np.sqrt(np.mean(self.data**2))\n",
    "\n",
    "    @property\n",
    "    def min(self):\n",
    "        return np.min(self.data)\n",
    "\n",
    "    @property\n",
    "    def max(self):\n",
    "        return np.max(self.data)\n",
    "\n",
    "v_in = LTTraceData(LTR, 'V(vin)')\n",
    "v_out = LTTraceData(LTR, 'V(vout)')\n",
    "i_in = LTTraceData(LTR, 'I(Vvin)')\n",
    "i_out = LTTraceData(LTR, 'I(I1)')\n",
    "\n",
    "print(v_out.average)\n",
    "print(v_out.peak_to_peak)\n",
    "\n",
    "print(f'Eff: {abs(v_out.average * i_out.average) / abs(v_in.average * i_in.average) * 100}')"
   ],
   "metadata": {
    "collapsed": false,
    "ExecuteTime": {
     "start_time": "2023-04-26T11:25:57.265807Z",
     "end_time": "2023-04-26T11:25:57.463691Z"
    }
   }
  }
 ],
 "metadata": {
  "kernelspec": {
   "display_name": "Python 3",
   "language": "python",
   "name": "python3"
  },
  "language_info": {
   "codemirror_mode": {
    "name": "ipython",
    "version": 2
   },
   "file_extension": ".py",
   "mimetype": "text/x-python",
   "name": "python",
   "nbconvert_exporter": "python",
   "pygments_lexer": "ipython2",
   "version": "2.7.6"
  }
 },
 "nbformat": 4,
 "nbformat_minor": 0
}
