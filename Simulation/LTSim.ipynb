{
 "cells": [
  {
   "cell_type": "code",
   "execution_count": 15,
   "metadata": {
    "collapsed": true,
    "ExecuteTime": {
     "start_time": "2023-04-26T10:47:41.822400Z",
     "end_time": "2023-04-26T10:47:43.523504Z"
    }
   },
   "outputs": [
    {
     "name": "stdout",
     "output_type": "stream",
     "text": [
      "Using LTspice installed in : 'C:\\Users\\treys\\AppData\\Local\\Programs\\ADI\\LTspice\\LTspice.exe' \n",
      "Creating Netlist\n",
      "The Netlist was successfully created\n"
     ]
    }
   ],
   "source": [
    "import numpy as np\n",
    "from PyLTSpice import SimCommander, RawRead\n",
    "\n",
    "high_side = True\n",
    "low_side = False\n",
    "\n",
    "def frequencytoltpulse(frequency, side: bool):\n",
    "    deadband = 8  # ns\n",
    "    period = 1 / (frequency / 1E9)  # Convert to Gigahertz to ensure the period will be in nanoseconds\n",
    "    if side == low_side:\n",
    "        return f\"PULSE(3.3 0 0n 1n 1n {period + (deadband * 2)}n {period * 2}n)\"\n",
    "    else:\n",
    "        return f\"PULSE(0 3.3 {deadband}n 1n 1n {period}n {period * 2}n)\"\n",
    "\n",
    "fsw = 100E3\n",
    "L = 10E-6\n",
    "C = 47E-6\n",
    "\n",
    "# select spice model\n",
    "LTC = SimCommander(\"LTFiles/EPC23102_Mine.asc\")\n",
    "# set default arguments\n",
    "LTC.set_component_value('VHSin', frequencytoltpulse(fsw, high_side))\n",
    "LTC.set_component_value('VLSin', frequencytoltpulse(fsw, low_side))"
   ]
  },
  {
   "cell_type": "code",
   "execution_count": 20,
   "outputs": [
    {
     "name": "stdout",
     "output_type": "stream",
     "text": [
      "Wed Apr 26 10:49:13 2023 : Starting simulation 2\n"
     ]
    },
    {
     "data": {
      "text/plain": "<RunTask(sim2, started 28792)>"
     },
     "execution_count": 20,
     "metadata": {},
     "output_type": "execute_result"
    }
   ],
   "source": [
    "run_netlist_file = f'LTFiles/F{fsw}_L{L}_C{C}'\n",
    "LTC.run(run_filename=f'{run_netlist_file}.net')"
   ],
   "metadata": {
    "collapsed": false,
    "ExecuteTime": {
     "start_time": "2023-04-26T10:49:13.410811Z",
     "end_time": "2023-04-26T10:49:13.434682Z"
    }
   }
  },
  {
   "cell_type": "code",
   "execution_count": 33,
   "outputs": [
    {
     "name": "stdout",
     "output_type": "stream",
     "text": [
      "Reading file with encoding  utf_16_le\n",
      "File contains 31 traces, reading 31\n",
      "Binary RAW file with Normal access\n",
      "['time', 'V(hsin)', 'V(lsin)', 'V(vout)', 'V(sw)', 'V(vboot)', 'V(vdd5)', 'V(vin)', 'V(vdd_int)', 'I(C1)', 'I(C2)', 'I(C3)', 'I(C4)', 'I(L1)', 'I(I1)', 'I(Vhsin)', 'I(Vlsin)', 'I(Vvdd5)', 'I(Vvin)', 'Ix(u1:ENB)', 'Ix(u1:HSIN)', 'Ix(u1:LSIN)', 'Ix(u1:VDRV)', 'Ix(u1:AGND)', 'Ix(u1:PGND)', 'Ix(u1:RBOOT)', 'Ix(u1:RDRV)', 'Ix(u1:SW)', 'Ix(u1:VBOOT)', 'Ix(u1:VDD)', 'Ix(u1:VIN)']\n",
      "-5.832082\n",
      "0.9329524\n"
     ]
    }
   ],
   "source": [
    "LTR = RawRead(f'{run_netlist_file}.raw')\n",
    "print(LTR.get_trace_names())\n",
    "vin = np.array(LTR.get_trace('V(vin)'))\n",
    "vout = np.array(LTR.get_trace('V(vout)'))\n",
    "iin = np.array(LTR.get_trace('I(Vvin)'))\n",
    "pin = vin * iin\n",
    "print(np.average(pin))\n",
    "\n",
    "v_ripple = np.ptp(vout)\n",
    "print(v_ripple)"
   ],
   "metadata": {
    "collapsed": false,
    "ExecuteTime": {
     "start_time": "2023-04-26T10:52:54.753814Z",
     "end_time": "2023-04-26T10:52:54.834007Z"
    }
   }
  }
 ],
 "metadata": {
  "kernelspec": {
   "display_name": "Python 3",
   "language": "python",
   "name": "python3"
  },
  "language_info": {
   "codemirror_mode": {
    "name": "ipython",
    "version": 2
   },
   "file_extension": ".py",
   "mimetype": "text/x-python",
   "name": "python",
   "nbconvert_exporter": "python",
   "pygments_lexer": "ipython2",
   "version": "2.7.6"
  }
 },
 "nbformat": 4,
 "nbformat_minor": 0
}
