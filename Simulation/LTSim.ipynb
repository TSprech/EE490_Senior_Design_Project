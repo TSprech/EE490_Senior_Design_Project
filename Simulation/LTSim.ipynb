{
 "cells": [
  {
   "cell_type": "code",
   "execution_count": 14,
   "metadata": {
    "collapsed": true,
    "ExecuteTime": {
     "start_time": "2023-04-26T12:04:07.826587Z",
     "end_time": "2023-04-26T12:04:13.847832Z"
    }
   },
   "outputs": [
    {
     "name": "stdout",
     "output_type": "stream",
     "text": [
      "Using LTspice installed in : 'C:\\Users\\treys\\AppData\\Local\\Programs\\ADI\\LTspice\\LTspice.exe' \n",
      "Creating Netlist\n",
      "The Netlist was successfully created\n"
     ]
    }
   ],
   "source": [
    "# import PyLTSpice.raw_read\n",
    "from LTTraceData import LTTraceData\n",
    "from PyLTSpice import SimCommander, RawRead\n",
    "\n",
    "high_side = True\n",
    "low_side = False\n",
    "\n",
    "def frequencytoltpulse(frequency, side: bool):\n",
    "    deadband = 8  # ns\n",
    "    period = 1 / (frequency / 1E9)  # Convert to Gigahertz to ensure the period will be in nanoseconds\n",
    "    if side == low_side:\n",
    "        return f\"PULSE(3.3 0 0n 1n 1n {period + (deadband * 2)}n {period * 2}n)\"\n",
    "    else:\n",
    "        return f\"PULSE(0 3.3 {deadband}n 1n 1n {period}n {period * 2}n)\"\n",
    "\n",
    "fsw = 100E3\n",
    "L = 10E-6\n",
    "C = 47E-6\n",
    "\n",
    "# select spice model\n",
    "LTC = SimCommander(\"LTFiles/EPC23102_Mine.asc\")\n",
    "# set default arguments\n",
    "LTC.set_component_value('VHSin', frequencytoltpulse(fsw, high_side))\n",
    "LTC.set_component_value('VLSin', frequencytoltpulse(fsw, low_side))"
   ]
  },
  {
   "cell_type": "code",
   "execution_count": 15,
   "outputs": [
    {
     "name": "stdout",
     "output_type": "stream",
     "text": [
      "Wed Apr 26 12:04:15 2023 : Starting simulation 1\n"
     ]
    },
    {
     "data": {
      "text/plain": "<RunTask(sim1, started 7876)>"
     },
     "execution_count": 15,
     "metadata": {},
     "output_type": "execute_result"
    }
   ],
   "source": [
    "run_netlist_file = f'LTFiles/F{fsw}_L{L}_C{C}'\n",
    "LTC.run(run_filename=f'{run_netlist_file}.net')"
   ],
   "metadata": {
    "collapsed": false,
    "ExecuteTime": {
     "start_time": "2023-04-26T12:04:15.531800Z",
     "end_time": "2023-04-26T12:04:15.569688Z"
    }
   }
  },
  {
   "cell_type": "code",
   "execution_count": 16,
   "outputs": [
    {
     "name": "stdout",
     "output_type": "stream",
     "text": [
      "Reading file with encoding  utf_16_le\n",
      "File contains 8 traces, reading 8\n",
      "Binary RAW file with Normal access\n",
      "['time', 'V(vout)', 'V(sw)', 'V(vin)', 'I(C1)', 'I(L1)', 'I(Il)', 'I(Vs)']\n",
      "5.005125\n",
      "1.0\n",
      "10.0\n",
      "-0.20583676\n",
      "Eff: 243.15993785858154\n"
     ]
    }
   ],
   "source": [
    "LTR = RawRead(f'{run_netlist_file}.raw')\n",
    "print(LTR.get_trace_names())\n",
    "\n",
    "v_in = LTTraceData(LTR, 'V(vin)')\n",
    "v_out = LTTraceData(LTR, 'V(vout)')\n",
    "i_in = LTTraceData(LTR, 'I(Vs)')\n",
    "i_out = LTTraceData(LTR, 'I(Il)')\n",
    "\n",
    "print(v_out.average)\n",
    "print(i_out.average)\n",
    "\n",
    "print(v_in.average)\n",
    "print(i_in.average)\n",
    "\n",
    "print(f'Eff: {abs(v_out.average * i_out.average) / abs(v_in.average * i_in.average) * 100}')"
   ],
   "metadata": {
    "collapsed": false,
    "ExecuteTime": {
     "start_time": "2023-04-26T12:04:44.310728Z",
     "end_time": "2023-04-26T12:04:44.326485Z"
    }
   }
  },
  {
   "cell_type": "code",
   "execution_count": 5,
   "outputs": [],
   "source": [
    "import numpy as np\n",
    "import pandas as pd\n",
    "\n",
    "inductors = pd.read_csv('Inductors.csv')\n",
    "\n",
    "# with open(\"Inductors.csv\", 'r', encoding='utf-8-sig') as x:  # https://stackoverflow.com/a/49150749\n",
    "#     arr = np.array(list(csv.reader(x, delimiter=\",\")))\n",
    "#\n",
    "#     inductances = []\n",
    "#     for elem in arr:\n",
    "#         inductances.append(elem[1])\n",
    "#\n",
    "#     print(inductances)"
   ],
   "metadata": {
    "collapsed": false,
    "ExecuteTime": {
     "start_time": "2023-04-26T18:35:25.029636Z",
     "end_time": "2023-04-26T18:35:25.034013Z"
    }
   }
  },
  {
   "cell_type": "code",
   "execution_count": 39,
   "outputs": [
    {
     "name": "stdout",
     "output_type": "stream",
     "text": [
      "10.0\n",
      "Inductance_uH\n",
      "10.0    6.3\n",
      "Name: DCR_mOhm, dtype: float64\n"
     ]
    }
   ],
   "source": [
    "def find_nearest(array, value):  # Thanks: https://stackoverflow.com/a/2566508\n",
    "    array = np.asarray(array)\n",
    "    idx = (np.abs(array - value)).argmin()\n",
    "    return array[idx]\n",
    "\n",
    "lowest_dcr_inductors = inductors.groupby('Inductance_uH', group_keys=False).apply(lambda x: x.loc[x.DCR_mOhm.idxmin()])  # https://stackoverflow.com/a/13059751\n",
    "\n",
    "required_inductor = find_nearest(lowest_dcr_inductors.Inductance_uH, 9.8)\n",
    "print(required_inductor)\n",
    "required_inductor_row = lowest_dcr_inductors.loc[lowest_dcr_inductors.Inductance_uH == required_inductor]  # https://stackoverflow.com/a/17071908\n",
    "print(required_inductor_row.DCR_mOhm)"
   ],
   "metadata": {
    "collapsed": false,
    "ExecuteTime": {
     "start_time": "2023-04-26T18:50:06.347556Z",
     "end_time": "2023-04-26T18:50:06.361472Z"
    }
   }
  }
 ],
 "metadata": {
  "kernelspec": {
   "display_name": "Python 3",
   "language": "python",
   "name": "python3"
  },
  "language_info": {
   "codemirror_mode": {
    "name": "ipython",
    "version": 2
   },
   "file_extension": ".py",
   "mimetype": "text/x-python",
   "name": "python",
   "nbconvert_exporter": "python",
   "pygments_lexer": "ipython2",
   "version": "2.7.6"
  }
 },
 "nbformat": 4,
 "nbformat_minor": 0
}
