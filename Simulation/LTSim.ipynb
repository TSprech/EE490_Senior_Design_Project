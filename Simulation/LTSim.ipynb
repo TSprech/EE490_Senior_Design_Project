{
 "cells": [
  {
   "cell_type": "code",
   "execution_count": 3,
   "metadata": {
    "collapsed": true,
    "ExecuteTime": {
     "start_time": "2023-04-26T10:35:49.250785Z",
     "end_time": "2023-04-26T10:35:51.105426Z"
    }
   },
   "outputs": [
    {
     "name": "stdout",
     "output_type": "stream",
     "text": [
      "Using LTspice installed in : 'C:\\Users\\treys\\AppData\\Local\\Programs\\ADI\\LTspice\\LTspice.exe' \n",
      "Creating Netlist\n",
      "The Netlist was successfully created\n"
     ]
    }
   ],
   "source": [
    "import numpy as np\n",
    "from PyLTSpice import SimCommander, RawRead\n",
    "\n",
    "high_side = True\n",
    "low_side = False\n",
    "\n",
    "def frequencytoltpulse(frequency, side: bool):\n",
    "    deadband = 8  # ns\n",
    "    period = 1 / (frequency / 1E9)  # Convert to Gigahertz to ensure the period will be in nanoseconds\n",
    "    if side == low_side:\n",
    "        return f\"PULSE(3.3 0 0n 1n 1n {period + (deadband * 2)}n {period * 2}n)\"\n",
    "    else:\n",
    "        return f\"PULSE(0 3.3 {deadband}n 1n 1n {period}n {period * 2}n)\"\n",
    "\n",
    "fsw = 100E3\n",
    "L = 10E-6\n",
    "C = 47E-6\n",
    "\n",
    "# select spice model\n",
    "LTC = SimCommander(\"LTFiles/EPC23102_Mine.asc\")\n",
    "# set default arguments\n",
    "LTC.set_component_value('VHSin', frequencytoltpulse(fsw, high_side))\n",
    "LTC.set_component_value('VLSin', frequencytoltpulse(fsw, low_side))"
   ]
  },
  {
   "cell_type": "code",
   "execution_count": 13,
   "outputs": [
    {
     "name": "stdout",
     "output_type": "stream",
     "text": [
      "Wed Apr 26 10:40:05 2023 : Starting simulation 2\n"
     ]
    },
    {
     "data": {
      "text/plain": "<RunTask(sim2, started 25412)>"
     },
     "execution_count": 13,
     "metadata": {},
     "output_type": "execute_result"
    }
   ],
   "source": [
    "run_netlist_file = f'LTFiles/F{fsw}_L{L}_C{C}.net'\n",
    "LTC.run(run_filename=run_netlist_file)"
   ],
   "metadata": {
    "collapsed": false,
    "ExecuteTime": {
     "start_time": "2023-04-26T10:40:05.029610Z",
     "end_time": "2023-04-26T10:40:05.046267Z"
    }
   }
  },
  {
   "cell_type": "code",
   "execution_count": 14,
   "outputs": [
    {
     "ename": "RuntimeError",
     "evalue": "Unrecognized encoding",
     "output_type": "error",
     "traceback": [
      "\u001B[1;31m---------------------------------------------------------------------------\u001B[0m",
      "\u001B[1;31mRuntimeError\u001B[0m                              Traceback (most recent call last)",
      "Cell \u001B[1;32mIn[14], line 1\u001B[0m\n\u001B[1;32m----> 1\u001B[0m LTR \u001B[38;5;241m=\u001B[39m \u001B[43mRawRead\u001B[49m\u001B[43m(\u001B[49m\u001B[43mrun_netlist_file\u001B[49m\u001B[43m)\u001B[49m\n\u001B[0;32m      2\u001B[0m \u001B[38;5;28mprint\u001B[39m(LTR\u001B[38;5;241m.\u001B[39mget_trace_names())\n\u001B[0;32m      3\u001B[0m vin \u001B[38;5;241m=\u001B[39m LTR\u001B[38;5;241m.\u001B[39mget_trace(\u001B[38;5;124m'\u001B[39m\u001B[38;5;124mV(VVin)\u001B[39m\u001B[38;5;124m'\u001B[39m)\n",
      "File \u001B[1;32m~\\OneDrive\\Documents\\KU_No_Spaces\\EE490\\EE490_Senior_Design_Project\\venv\\Lib\\site-packages\\PyLTSpice\\raw_read.py:381\u001B[0m, in \u001B[0;36mRawRead.__init__\u001B[1;34m(self, raw_filename, traces_to_read, **kwargs)\u001B[0m\n\u001B[0;32m    379\u001B[0m     line \u001B[38;5;241m=\u001B[39m \u001B[38;5;124m'\u001B[39m\u001B[38;5;124mTit\u001B[39m\u001B[38;5;124m'\u001B[39m\n\u001B[0;32m    380\u001B[0m \u001B[38;5;28;01melse\u001B[39;00m:\n\u001B[1;32m--> 381\u001B[0m     \u001B[38;5;28;01mraise\u001B[39;00m \u001B[38;5;167;01mRuntimeError\u001B[39;00m(\u001B[38;5;124m\"\u001B[39m\u001B[38;5;124mUnrecognized encoding\u001B[39m\u001B[38;5;124m\"\u001B[39m)\n\u001B[0;32m    382\u001B[0m \u001B[38;5;28;01mif\u001B[39;00m \u001B[38;5;28mself\u001B[39m\u001B[38;5;241m.\u001B[39mverbose:\n\u001B[0;32m    383\u001B[0m     \u001B[38;5;28mprint\u001B[39m(\u001B[38;5;124m\"\u001B[39m\u001B[38;5;124mReading file with encoding \u001B[39m\u001B[38;5;124m\"\u001B[39m, \u001B[38;5;28mself\u001B[39m\u001B[38;5;241m.\u001B[39mencoding)\n",
      "\u001B[1;31mRuntimeError\u001B[0m: Unrecognized encoding"
     ]
    }
   ],
   "source": [
    "LTR = RawRead(run_netlist_file)\n",
    "print(LTR.get_trace_names())\n",
    "vin = LTR.get_trace('V(VVin)')\n",
    "iin = LTR.get_trace('I(VVin)')\n",
    "pin = vin * iin\n",
    "\n",
    "v_ripple = np.ptp()"
   ],
   "metadata": {
    "collapsed": false
   }
  }
 ],
 "metadata": {
  "kernelspec": {
   "display_name": "Python 3",
   "language": "python",
   "name": "python3"
  },
  "language_info": {
   "codemirror_mode": {
    "name": "ipython",
    "version": 2
   },
   "file_extension": ".py",
   "mimetype": "text/x-python",
   "name": "python",
   "nbconvert_exporter": "python",
   "pygments_lexer": "ipython2",
   "version": "2.7.6"
  }
 },
 "nbformat": 4,
 "nbformat_minor": 0
}
