{
 "cells": [
  {
   "cell_type": "code",
   "execution_count": 2,
   "outputs": [
    {
     "name": "stdout",
     "output_type": "stream",
     "text": [
      "Using LTspice installed in : 'C:\\Users\\treys\\AppData\\Local\\Programs\\ADI\\LTspice\\LTspice.exe' \n"
     ]
    },
    {
     "ename": "IndexError",
     "evalue": "single positional indexer is out-of-bounds",
     "output_type": "error",
     "traceback": [
      "\u001B[1;31m---------------------------------------------------------------------------\u001B[0m",
      "\u001B[1;31mIndexError\u001B[0m                                Traceback (most recent call last)",
      "Cell \u001B[1;32mIn[2], line 14\u001B[0m\n\u001B[0;32m     10\u001B[0m low_side \u001B[38;5;241m=\u001B[39m \u001B[38;5;28;01mFalse\u001B[39;00m\n\u001B[0;32m     12\u001B[0m \u001B[38;5;66;03m# crs.closest_coilcraft_inductor(46E-6)\u001B[39;00m\n\u001B[0;32m     13\u001B[0m \u001B[38;5;66;03m# mrs.closest_murata_capacitor(0.99E-6)\u001B[39;00m\n\u001B[1;32m---> 14\u001B[0m \u001B[38;5;28mprint\u001B[39m(\u001B[43mcrs\u001B[49m\u001B[38;5;241;43m.\u001B[39;49m\u001B[43mindexed_coilcraft_inductor\u001B[49m\u001B[43m(\u001B[49m\u001B[38;5;241;43m3136\u001B[39;49m\u001B[43m)\u001B[49m[\u001B[38;5;124m\"\u001B[39m\u001B[38;5;124mSubCkt\u001B[39m\u001B[38;5;124m\"\u001B[39m])\n\u001B[0;32m     15\u001B[0m \u001B[38;5;28mprint\u001B[39m(mrs\u001B[38;5;241m.\u001B[39mindexed_murata_capacitor(\u001B[38;5;124m\"\u001B[39m\u001B[38;5;124mC1\u001B[39m\u001B[38;5;124m\"\u001B[39m, \u001B[38;5;241m11464\u001B[39m)[\u001B[38;5;124m\"\u001B[39m\u001B[38;5;124mSubCkt\u001B[39m\u001B[38;5;124m\"\u001B[39m])\n\u001B[0;32m     17\u001B[0m \u001B[38;5;28;01mdef\u001B[39;00m \u001B[38;5;21mfrequencytoltpulse\u001B[39m(frequency, side: \u001B[38;5;28mbool\u001B[39m):\n",
      "File \u001B[1;32m~\\Code\\EE490_Senior_Design_Project\\Simulation\\CoilcraftRandomSelect.py:16\u001B[0m, in \u001B[0;36mindexed_coilcraft_inductor\u001B[1;34m(index)\u001B[0m\n\u001B[0;32m     15\u001B[0m \u001B[38;5;28;01mdef\u001B[39;00m \u001B[38;5;21mindexed_coilcraft_inductor\u001B[39m(index: \u001B[38;5;28mint\u001B[39m):\n\u001B[1;32m---> 16\u001B[0m     selected_inductor \u001B[38;5;241m=\u001B[39m \u001B[43minductors\u001B[49m\u001B[38;5;241;43m.\u001B[39;49m\u001B[43miloc\u001B[49m\u001B[43m[\u001B[49m\u001B[43mindex\u001B[49m\u001B[43m]\u001B[49m  \u001B[38;5;66;03m# Select the inductor at that index\u001B[39;00m\n\u001B[0;32m     17\u001B[0m     \u001B[38;5;66;03m# First commonize the part number to Inductor to make it easy for the computer to put in the simulation\u001B[39;00m\n\u001B[0;32m     18\u001B[0m     \u001B[38;5;66;03m# Then remove teh extra _imp or _sat which is appended to the subckt names\u001B[39;00m\n\u001B[0;32m     19\u001B[0m     \u001B[38;5;66;03m# Then undo the \\n→; conversion done when encoding to csv\u001B[39;00m\n\u001B[0;32m     20\u001B[0m     subckt \u001B[38;5;241m=\u001B[39m selected_inductor[\u001B[38;5;124m'\u001B[39m\u001B[38;5;124mSubCkt\u001B[39m\u001B[38;5;124m'\u001B[39m] \\\n\u001B[0;32m     21\u001B[0m         \u001B[38;5;241m.\u001B[39mreplace(selected_inductor[\u001B[38;5;124m'\u001B[39m\u001B[38;5;124mPartNumber\u001B[39m\u001B[38;5;124m'\u001B[39m], \u001B[38;5;124m'\u001B[39m\u001B[38;5;124mInductor\u001B[39m\u001B[38;5;124m'\u001B[39m) \\\n\u001B[0;32m     22\u001B[0m         \u001B[38;5;241m.\u001B[39mreplace(\u001B[38;5;124m'\u001B[39m\u001B[38;5;124m_imp\u001B[39m\u001B[38;5;124m'\u001B[39m, \u001B[38;5;124m'\u001B[39m\u001B[38;5;124m'\u001B[39m) \\\n\u001B[0;32m     23\u001B[0m         \u001B[38;5;241m.\u001B[39mreplace(\u001B[38;5;124m'\u001B[39m\u001B[38;5;124m_sat\u001B[39m\u001B[38;5;124m'\u001B[39m, \u001B[38;5;124m'\u001B[39m\u001B[38;5;124m'\u001B[39m) \\\n\u001B[0;32m     24\u001B[0m         \u001B[38;5;241m.\u001B[39mreplace(\u001B[38;5;124m'\u001B[39m\u001B[38;5;124m;\u001B[39m\u001B[38;5;124m'\u001B[39m, \u001B[38;5;124m'\u001B[39m\u001B[38;5;130;01m\\n\u001B[39;00m\u001B[38;5;124m'\u001B[39m)\n",
      "File \u001B[1;32m~\\OneDrive\\Documents\\KU_No_Spaces\\EE490\\EE490_Venv\\lib\\site-packages\\pandas\\core\\indexing.py:1103\u001B[0m, in \u001B[0;36m_LocationIndexer.__getitem__\u001B[1;34m(self, key)\u001B[0m\n\u001B[0;32m   1100\u001B[0m axis \u001B[38;5;241m=\u001B[39m \u001B[38;5;28mself\u001B[39m\u001B[38;5;241m.\u001B[39maxis \u001B[38;5;129;01mor\u001B[39;00m \u001B[38;5;241m0\u001B[39m\n\u001B[0;32m   1102\u001B[0m maybe_callable \u001B[38;5;241m=\u001B[39m com\u001B[38;5;241m.\u001B[39mapply_if_callable(key, \u001B[38;5;28mself\u001B[39m\u001B[38;5;241m.\u001B[39mobj)\n\u001B[1;32m-> 1103\u001B[0m \u001B[38;5;28;01mreturn\u001B[39;00m \u001B[38;5;28;43mself\u001B[39;49m\u001B[38;5;241;43m.\u001B[39;49m\u001B[43m_getitem_axis\u001B[49m\u001B[43m(\u001B[49m\u001B[43mmaybe_callable\u001B[49m\u001B[43m,\u001B[49m\u001B[43m \u001B[49m\u001B[43maxis\u001B[49m\u001B[38;5;241;43m=\u001B[39;49m\u001B[43maxis\u001B[49m\u001B[43m)\u001B[49m\n",
      "File \u001B[1;32m~\\OneDrive\\Documents\\KU_No_Spaces\\EE490\\EE490_Venv\\lib\\site-packages\\pandas\\core\\indexing.py:1656\u001B[0m, in \u001B[0;36m_iLocIndexer._getitem_axis\u001B[1;34m(self, key, axis)\u001B[0m\n\u001B[0;32m   1653\u001B[0m     \u001B[38;5;28;01mraise\u001B[39;00m \u001B[38;5;167;01mTypeError\u001B[39;00m(\u001B[38;5;124m\"\u001B[39m\u001B[38;5;124mCannot index by location index with a non-integer key\u001B[39m\u001B[38;5;124m\"\u001B[39m)\n\u001B[0;32m   1655\u001B[0m \u001B[38;5;66;03m# validate the location\u001B[39;00m\n\u001B[1;32m-> 1656\u001B[0m \u001B[38;5;28;43mself\u001B[39;49m\u001B[38;5;241;43m.\u001B[39;49m\u001B[43m_validate_integer\u001B[49m\u001B[43m(\u001B[49m\u001B[43mkey\u001B[49m\u001B[43m,\u001B[49m\u001B[43m \u001B[49m\u001B[43maxis\u001B[49m\u001B[43m)\u001B[49m\n\u001B[0;32m   1658\u001B[0m \u001B[38;5;28;01mreturn\u001B[39;00m \u001B[38;5;28mself\u001B[39m\u001B[38;5;241m.\u001B[39mobj\u001B[38;5;241m.\u001B[39m_ixs(key, axis\u001B[38;5;241m=\u001B[39maxis)\n",
      "File \u001B[1;32m~\\OneDrive\\Documents\\KU_No_Spaces\\EE490\\EE490_Venv\\lib\\site-packages\\pandas\\core\\indexing.py:1589\u001B[0m, in \u001B[0;36m_iLocIndexer._validate_integer\u001B[1;34m(self, key, axis)\u001B[0m\n\u001B[0;32m   1587\u001B[0m len_axis \u001B[38;5;241m=\u001B[39m \u001B[38;5;28mlen\u001B[39m(\u001B[38;5;28mself\u001B[39m\u001B[38;5;241m.\u001B[39mobj\u001B[38;5;241m.\u001B[39m_get_axis(axis))\n\u001B[0;32m   1588\u001B[0m \u001B[38;5;28;01mif\u001B[39;00m key \u001B[38;5;241m>\u001B[39m\u001B[38;5;241m=\u001B[39m len_axis \u001B[38;5;129;01mor\u001B[39;00m key \u001B[38;5;241m<\u001B[39m \u001B[38;5;241m-\u001B[39mlen_axis:\n\u001B[1;32m-> 1589\u001B[0m     \u001B[38;5;28;01mraise\u001B[39;00m \u001B[38;5;167;01mIndexError\u001B[39;00m(\u001B[38;5;124m\"\u001B[39m\u001B[38;5;124msingle positional indexer is out-of-bounds\u001B[39m\u001B[38;5;124m\"\u001B[39m)\n",
      "\u001B[1;31mIndexError\u001B[0m: single positional indexer is out-of-bounds"
     ]
    }
   ],
   "source": [
    "import numpy as np\n",
    "import random\n",
    "from pathlib import Path\n",
    "from LTTraceData import LTTraceData\n",
    "from PyLTSpice import SimCommander, RawRead, SimRunner, SpiceEditor\n",
    "import CoilcraftRandomSelect as crs\n",
    "import MurataRandomSelect as mrs\n",
    "\n",
    "high_side = True\n",
    "low_side = False\n",
    "\n",
    "# crs.closest_coilcraft_inductor(46E-6)\n",
    "# mrs.closest_murata_capacitor(0.99E-6)\n",
    "print(crs.indexed_coilcraft_inductor(3136)[\"SubCkt\"])\n",
    "print(mrs.indexed_murata_capacitor(\"C1\", 11464)[\"SubCkt\"])\n",
    "\n",
    "def frequencytoltpulse(frequency, side: bool):\n",
    "    deadband = 8  # ns\n",
    "    period = 1 / (frequency / 1E9)  # Convert to Gigahertz to ensure the period will be in nanoseconds\n",
    "    if side == low_side:\n",
    "        return f\"PULSE(3.3 0 0n 1n 1n {period + (deadband * 2)}n {period * 2}n)\"\n",
    "    else:\n",
    "        return f\"PULSE(0 3.3 {deadband}n 1n 1n {period}n {period * 2}n)\"\n",
    "\n",
    "print(frequencytoltpulse(100E3, high_side))\n",
    "print(frequencytoltpulse(100E3, low_side))"
   ],
   "metadata": {
    "collapsed": false,
    "ExecuteTime": {
     "start_time": "2023-05-21T09:31:32.633344Z",
     "end_time": "2023-05-21T09:31:32.655872Z"
    }
   }
  },
  {
   "cell_type": "code",
   "execution_count": 4,
   "outputs": [
    {
     "name": "stdout",
     "output_type": "stream",
     "text": [
      "Vout | Average: 4.981719017028809\n",
      "Vin | Average: 10.0\n",
      "Iout | Average: 0.996343731880188\n",
      "Iin | Average: 1.2984588146209717\n",
      "0.38226122081922664\n"
     ]
    }
   ],
   "source": [
    "filename = r'LTFiles/_I-103_C1-362_C2-444_C3-323_C4-625.raw'\n",
    "ltr = RawRead(filename, verbose=False)\n",
    "\n",
    "v_in = LTTraceData(ltr, 'V(vin)')\n",
    "v_out = LTTraceData(ltr, 'V(vout)')\n",
    "i_in = LTTraceData(ltr, 'I(Vs)', invert = True)\n",
    "i_out = LTTraceData(ltr, 'I(R1)')\n",
    "\n",
    "if v_out.peak_to_peak > 2:\n",
    "    print(\"Peak to peak error\")\n",
    "\n",
    "if v_out.min < 4 or v_out.max > 8:\n",
    "    print(\"Limit error\")\n",
    "\n",
    "print(f'Vout | Average: {v_out.average}')\n",
    "print(f'Vin | Average: {v_in.average}')\n",
    "print(f'Iout | Average: {i_out.average}')\n",
    "print(f'Iin | Average: {i_in.average}')\n",
    "\n",
    "print((v_out.average * i_out.average) / (v_in.average * i_in.average))"
   ],
   "metadata": {
    "collapsed": false,
    "ExecuteTime": {
     "start_time": "2023-05-21T10:43:33.369317Z",
     "end_time": "2023-05-21T10:43:33.421316Z"
    }
   }
  },
  {
   "cell_type": "code",
   "execution_count": null,
   "outputs": [],
   "source": [
    "def frequencytoltpulse(frequency, side: bool):\n",
    "    deadband = 8  # ns\n",
    "    period = 1 / (frequency / 1E9)  # Convert to Gigahertz to ensure the period will be in nanoseconds\n",
    "    if side == low_side:\n",
    "        return f\"PULSE(3.3 0 0n 1n 1n {period + (deadband * 2)}n {period * 2}n)\"\n",
    "    else:\n",
    "        return f\"PULSE(0 3.3 {deadband}n 1n 1n {period}n {period * 2}n)\"\n",
    "\n",
    "\n",
    "fsw = 100E3\n",
    "L = 10E-6\n",
    "C = 47E-6\n",
    "\n",
    "# select spice model\n",
    "# LTC = SimCommander(\"LTFiles/EPC23102_Mine.asc\")\n",
    "\n",
    "v_out_max = 999\n",
    "v_out_min = 0\n",
    "\n",
    "random.seed(256)\n",
    "\n",
    "while v_out_max > 6 or v_out_min < 4:\n",
    "    LTC = SimRunner(output_folder='LTFiles')\n",
    "    # LTC.create_netlist('LTFiles/EPC23102_Mine.asc')\n",
    "    netlist = SpiceEditor('LTFiles/EPC23102_Mine.asc')\n",
    "    # set default arguments\n",
    "    netlist.set_component_value('VHSin', frequencytoltpulse(fsw, high_side))\n",
    "    netlist.set_component_value('VLSin', frequencytoltpulse(fsw, low_side))\n",
    "    inductor = crs.random_coilcraft_inductor()\n",
    "    print(inductor['PartNumber'])\n",
    "    netlist.add_instruction(inductor['SubCkt'])\n",
    "    # capacitor = mrs.random_murata_capacitor('C1')\n",
    "    # print(capacitor['PartNumber'])\n",
    "    # netlist.add_instruction(capacitor['SubCkt'])\n",
    "\n",
    "    netlist.add_instruction(mrs.random_murata_capacitor('C1')['SubCkt'])\n",
    "    netlist.add_instruction(mrs.random_murata_capacitor('C2')['SubCkt'])\n",
    "    netlist.add_instruction(mrs.random_murata_capacitor('C3')['SubCkt'])\n",
    "    netlist.add_instruction(mrs.random_murata_capacitor('C4')['SubCkt'])\n",
    "\n",
    "    # print(netlist.get_components())\n",
    "\n",
    "    netlist.write_netlist(Path(\"LTFiles/FullyCustom.net\"))\n",
    "    raw, log = LTC.run_now(netlist, run_filename=\"FullyCustom.net\")\n",
    "\n",
    "    LTR = RawRead('LTFiles/FullyCustom.raw')\n",
    "    # print(LTR.get_trace_names())\n",
    "\n",
    "    v_out = LTTraceData(LTR, 'V(vout)')\n",
    "    print(v_out.min)\n",
    "    print(v_out.max)\n",
    "    print(v_out.average)\n",
    "    v_out_max = v_out.max\n",
    "    v_out_min = v_out.min\n",
    "\n",
    "# print(raw)\n",
    "# print(log)\n",
    "\n",
    "# # run_netlist_file = f'LTFiles/F{fsw}_L{L}_C{C}'\n",
    "# # run_netlist_file = f'LTFiles/FullyRandom'\n",
    "# # LTC.run(run_filename=f'{run_netlist_file}.net')"
   ],
   "metadata": {
    "collapsed": false
   }
  },
  {
   "cell_type": "code",
   "execution_count": 18,
   "outputs": [
    {
     "data": {
      "text/plain": "      Unnamed: 0    PartNumber  Inductance   \n0           1504   XEL3520-112    0.000001  \\\n1           1505  MVR1261C-112    0.000001   \n2           1506   XAL6020-112    0.000001   \n3           1507   XAL5020-122    0.000001   \n4           1508   XAL7070-122    0.000001   \n...          ...           ...         ...   \n1694        3404   LPS5050-106    0.010000   \n1695        3406   LPS6225-106    0.010000   \n1696        3407        HA3778    7.700000   \n1697        3408        GA3199   19.000000   \n1698        3409        TA7849   84.000000   \n\n                                                 SubCkt  \n0     *=============================================...  \n1     *=============================================...  \n2     *=============================================...  \n3     *=============================================...  \n4     *=============================================...  \n...                                                 ...  \n1694  *=============================================...  \n1695  *=============================================...  \n1696  *=============================================...  \n1697  *=============================================...  \n1698  *=============================================...  \n\n[1699 rows x 4 columns]",
      "text/html": "<div>\n<style scoped>\n    .dataframe tbody tr th:only-of-type {\n        vertical-align: middle;\n    }\n\n    .dataframe tbody tr th {\n        vertical-align: top;\n    }\n\n    .dataframe thead th {\n        text-align: right;\n    }\n</style>\n<table border=\"1\" class=\"dataframe\">\n  <thead>\n    <tr style=\"text-align: right;\">\n      <th></th>\n      <th>Unnamed: 0</th>\n      <th>PartNumber</th>\n      <th>Inductance</th>\n      <th>SubCkt</th>\n    </tr>\n  </thead>\n  <tbody>\n    <tr>\n      <th>0</th>\n      <td>1504</td>\n      <td>XEL3520-112</td>\n      <td>0.000001</td>\n      <td>*=============================================...</td>\n    </tr>\n    <tr>\n      <th>1</th>\n      <td>1505</td>\n      <td>MVR1261C-112</td>\n      <td>0.000001</td>\n      <td>*=============================================...</td>\n    </tr>\n    <tr>\n      <th>2</th>\n      <td>1506</td>\n      <td>XAL6020-112</td>\n      <td>0.000001</td>\n      <td>*=============================================...</td>\n    </tr>\n    <tr>\n      <th>3</th>\n      <td>1507</td>\n      <td>XAL5020-122</td>\n      <td>0.000001</td>\n      <td>*=============================================...</td>\n    </tr>\n    <tr>\n      <th>4</th>\n      <td>1508</td>\n      <td>XAL7070-122</td>\n      <td>0.000001</td>\n      <td>*=============================================...</td>\n    </tr>\n    <tr>\n      <th>...</th>\n      <td>...</td>\n      <td>...</td>\n      <td>...</td>\n      <td>...</td>\n    </tr>\n    <tr>\n      <th>1694</th>\n      <td>3404</td>\n      <td>LPS5050-106</td>\n      <td>0.010000</td>\n      <td>*=============================================...</td>\n    </tr>\n    <tr>\n      <th>1695</th>\n      <td>3406</td>\n      <td>LPS6225-106</td>\n      <td>0.010000</td>\n      <td>*=============================================...</td>\n    </tr>\n    <tr>\n      <th>1696</th>\n      <td>3407</td>\n      <td>HA3778</td>\n      <td>7.700000</td>\n      <td>*=============================================...</td>\n    </tr>\n    <tr>\n      <th>1697</th>\n      <td>3408</td>\n      <td>GA3199</td>\n      <td>19.000000</td>\n      <td>*=============================================...</td>\n    </tr>\n    <tr>\n      <th>1698</th>\n      <td>3409</td>\n      <td>TA7849</td>\n      <td>84.000000</td>\n      <td>*=============================================...</td>\n    </tr>\n  </tbody>\n</table>\n<p>1699 rows × 4 columns</p>\n</div>"
     },
     "execution_count": 18,
     "metadata": {},
     "output_type": "execute_result"
    }
   ],
   "source": [
    "import pandas as pd\n",
    "inductors = pd.read_csv('CoilcraftInductors.csv')  # Get all the inductors from the file\n",
    "inductors = inductors[inductors['PartNumber'].str.contains(\"0201|0402|0603|0805|1008|1206|1210\") == False]\n",
    "inductors = inductors[inductors['Inductance'] > 1E-6].reset_index(drop=True)\n",
    "inductors"
   ],
   "metadata": {
    "collapsed": false,
    "ExecuteTime": {
     "start_time": "2023-05-17T12:31:02.962534Z",
     "end_time": "2023-05-17T12:31:02.988932Z"
    }
   }
  }
 ],
 "metadata": {
  "kernelspec": {
   "display_name": "Python 3",
   "language": "python",
   "name": "python3"
  },
  "language_info": {
   "codemirror_mode": {
    "name": "ipython",
    "version": 2
   },
   "file_extension": ".py",
   "mimetype": "text/x-python",
   "name": "python",
   "nbconvert_exporter": "python",
   "pygments_lexer": "ipython2",
   "version": "2.7.6"
  }
 },
 "nbformat": 4,
 "nbformat_minor": 0
}
