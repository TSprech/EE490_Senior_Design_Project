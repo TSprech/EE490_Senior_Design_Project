{
 "cells": [
  {
   "cell_type": "code",
   "execution_count": 1,
   "outputs": [
    {
     "name": "stdout",
     "output_type": "stream",
     "text": [
      "Using LTspice installed in : 'C:\\Users\\treys\\AppData\\Local\\Programs\\ADI\\LTspice\\LTspice.exe' \n"
     ]
    },
    {
     "data": {
      "text/plain": "      Unnamed: 0         PartNumber  Capacitance   \n16            16  GRM0115C1C1R0BE11     0.000001  \\\n17            17  GRM0115C1C1R0CE11     0.000001   \n18            18  GRM0115C1C1R0WE11     0.000001   \n407          407  GRM0115C1E1R0BE11     0.000001   \n408          408  GRM0115C1E1R0CE11     0.000001   \n...          ...                ...          ...   \n8575        8575  GRM1885C1H1R0CA01     0.000001   \n8576        8576  GRM1885C1H1R0WA01     0.000001   \n8945        8945  GRM1885C2A1R0BA01     0.000001   \n8946        8946  GRM1885C2A1R0CA01     0.000001   \n8947        8947  GRM1885C2A1R0WA01     0.000001   \n\n                                                 SubCkt  \n16    *---------------------------------------------...  \n17    *---------------------------------------------...  \n18    *---------------------------------------------...  \n407   *---------------------------------------------...  \n408   *---------------------------------------------...  \n...                                                 ...  \n8575  *---------------------------------------------...  \n8576  *---------------------------------------------...  \n8945  *---------------------------------------------...  \n8946  *---------------------------------------------...  \n8947  *---------------------------------------------...  \n\n[62 rows x 4 columns]",
      "text/html": "<div>\n<style scoped>\n    .dataframe tbody tr th:only-of-type {\n        vertical-align: middle;\n    }\n\n    .dataframe tbody tr th {\n        vertical-align: top;\n    }\n\n    .dataframe thead th {\n        text-align: right;\n    }\n</style>\n<table border=\"1\" class=\"dataframe\">\n  <thead>\n    <tr style=\"text-align: right;\">\n      <th></th>\n      <th>Unnamed: 0</th>\n      <th>PartNumber</th>\n      <th>Capacitance</th>\n      <th>SubCkt</th>\n    </tr>\n  </thead>\n  <tbody>\n    <tr>\n      <th>16</th>\n      <td>16</td>\n      <td>GRM0115C1C1R0BE11</td>\n      <td>0.000001</td>\n      <td>*---------------------------------------------...</td>\n    </tr>\n    <tr>\n      <th>17</th>\n      <td>17</td>\n      <td>GRM0115C1C1R0CE11</td>\n      <td>0.000001</td>\n      <td>*---------------------------------------------...</td>\n    </tr>\n    <tr>\n      <th>18</th>\n      <td>18</td>\n      <td>GRM0115C1C1R0WE11</td>\n      <td>0.000001</td>\n      <td>*---------------------------------------------...</td>\n    </tr>\n    <tr>\n      <th>407</th>\n      <td>407</td>\n      <td>GRM0115C1E1R0BE11</td>\n      <td>0.000001</td>\n      <td>*---------------------------------------------...</td>\n    </tr>\n    <tr>\n      <th>408</th>\n      <td>408</td>\n      <td>GRM0115C1E1R0CE11</td>\n      <td>0.000001</td>\n      <td>*---------------------------------------------...</td>\n    </tr>\n    <tr>\n      <th>...</th>\n      <td>...</td>\n      <td>...</td>\n      <td>...</td>\n      <td>...</td>\n    </tr>\n    <tr>\n      <th>8575</th>\n      <td>8575</td>\n      <td>GRM1885C1H1R0CA01</td>\n      <td>0.000001</td>\n      <td>*---------------------------------------------...</td>\n    </tr>\n    <tr>\n      <th>8576</th>\n      <td>8576</td>\n      <td>GRM1885C1H1R0WA01</td>\n      <td>0.000001</td>\n      <td>*---------------------------------------------...</td>\n    </tr>\n    <tr>\n      <th>8945</th>\n      <td>8945</td>\n      <td>GRM1885C2A1R0BA01</td>\n      <td>0.000001</td>\n      <td>*---------------------------------------------...</td>\n    </tr>\n    <tr>\n      <th>8946</th>\n      <td>8946</td>\n      <td>GRM1885C2A1R0CA01</td>\n      <td>0.000001</td>\n      <td>*---------------------------------------------...</td>\n    </tr>\n    <tr>\n      <th>8947</th>\n      <td>8947</td>\n      <td>GRM1885C2A1R0WA01</td>\n      <td>0.000001</td>\n      <td>*---------------------------------------------...</td>\n    </tr>\n  </tbody>\n</table>\n<p>62 rows × 4 columns</p>\n</div>"
     },
     "execution_count": 1,
     "metadata": {},
     "output_type": "execute_result"
    }
   ],
   "source": [
    "import numpy as np\n",
    "import random\n",
    "from pathlib import Path\n",
    "from LTTraceData import LTTraceData\n",
    "from PyLTSpice import SimCommander, RawRead, SimRunner, SpiceEditor\n",
    "import CoilcraftRandomSelect as crs\n",
    "import MurataRandomSelect as mrs\n",
    "\n",
    "high_side = True\n",
    "low_side = False\n",
    "\n",
    "crs.closest_coilcraft_inductor(46E-6)\n",
    "mrs.closest_murata_capacitor(0.99E-6)"
   ],
   "metadata": {
    "collapsed": false,
    "ExecuteTime": {
     "start_time": "2023-05-16T08:52:23.158496Z",
     "end_time": "2023-05-16T08:52:23.712345Z"
    }
   }
  },
  {
   "cell_type": "code",
   "execution_count": null,
   "outputs": [],
   "source": [
    "def frequencytoltpulse(frequency, side: bool):\n",
    "    deadband = 8  # ns\n",
    "    period = 1 / (frequency / 1E9)  # Convert to Gigahertz to ensure the period will be in nanoseconds\n",
    "    if side == low_side:\n",
    "        return f\"PULSE(3.3 0 0n 1n 1n {period + (deadband * 2)}n {period * 2}n)\"\n",
    "    else:\n",
    "        return f\"PULSE(0 3.3 {deadband}n 1n 1n {period}n {period * 2}n)\"\n",
    "\n",
    "\n",
    "fsw = 100E3\n",
    "L = 10E-6\n",
    "C = 47E-6\n",
    "\n",
    "# select spice model\n",
    "# LTC = SimCommander(\"LTFiles/EPC23102_Mine.asc\")\n",
    "\n",
    "v_out_max = 999\n",
    "v_out_min = 0\n",
    "\n",
    "random.seed(256)\n",
    "\n",
    "while v_out_max > 6 or v_out_min < 4:\n",
    "    LTC = SimRunner(output_folder='LTFiles')\n",
    "    # LTC.create_netlist('LTFiles/EPC23102_Mine.asc')\n",
    "    netlist = SpiceEditor('LTFiles/EPC23102_Mine.asc')\n",
    "    # set default arguments\n",
    "    netlist.set_component_value('VHSin', frequencytoltpulse(fsw, high_side))\n",
    "    netlist.set_component_value('VLSin', frequencytoltpulse(fsw, low_side))\n",
    "    inductor = crs.random_coilcraft_inductor()\n",
    "    print(inductor['PartNumber'])\n",
    "    netlist.add_instruction(inductor['SubCkt'])\n",
    "    # capacitor = mrs.random_murata_capacitor('C1')\n",
    "    # print(capacitor['PartNumber'])\n",
    "    # netlist.add_instruction(capacitor['SubCkt'])\n",
    "\n",
    "    netlist.add_instruction(mrs.random_murata_capacitor('C1')['SubCkt'])\n",
    "    netlist.add_instruction(mrs.random_murata_capacitor('C2')['SubCkt'])\n",
    "    netlist.add_instruction(mrs.random_murata_capacitor('C3')['SubCkt'])\n",
    "    netlist.add_instruction(mrs.random_murata_capacitor('C4')['SubCkt'])\n",
    "\n",
    "    # print(netlist.get_components())\n",
    "\n",
    "    netlist.write_netlist(Path(\"LTFiles/FullyCustom.net\"))\n",
    "    raw, log = LTC.run_now(netlist, run_filename=\"FullyCustom.net\")\n",
    "\n",
    "    LTR = RawRead('LTFiles/FullyCustom.raw')\n",
    "    # print(LTR.get_trace_names())\n",
    "\n",
    "    v_out = LTTraceData(LTR, 'V(vout)')\n",
    "    print(v_out.min)\n",
    "    print(v_out.max)\n",
    "    print(v_out.average)\n",
    "    v_out_max = v_out.max\n",
    "    v_out_min = v_out.min\n",
    "\n",
    "# print(raw)\n",
    "# print(log)\n",
    "\n",
    "# # run_netlist_file = f'LTFiles/F{fsw}_L{L}_C{C}'\n",
    "# # run_netlist_file = f'LTFiles/FullyRandom'\n",
    "# # LTC.run(run_filename=f'{run_netlist_file}.net')"
   ],
   "metadata": {
    "collapsed": false
   }
  },
  {
   "cell_type": "code",
   "execution_count": 18,
   "outputs": [
    {
     "data": {
      "text/plain": "      Unnamed: 0    PartNumber  Inductance   \n0           1504   XEL3520-112    0.000001  \\\n1           1505  MVR1261C-112    0.000001   \n2           1506   XAL6020-112    0.000001   \n3           1507   XAL5020-122    0.000001   \n4           1508   XAL7070-122    0.000001   \n...          ...           ...         ...   \n1694        3404   LPS5050-106    0.010000   \n1695        3406   LPS6225-106    0.010000   \n1696        3407        HA3778    7.700000   \n1697        3408        GA3199   19.000000   \n1698        3409        TA7849   84.000000   \n\n                                                 SubCkt  \n0     *=============================================...  \n1     *=============================================...  \n2     *=============================================...  \n3     *=============================================...  \n4     *=============================================...  \n...                                                 ...  \n1694  *=============================================...  \n1695  *=============================================...  \n1696  *=============================================...  \n1697  *=============================================...  \n1698  *=============================================...  \n\n[1699 rows x 4 columns]",
      "text/html": "<div>\n<style scoped>\n    .dataframe tbody tr th:only-of-type {\n        vertical-align: middle;\n    }\n\n    .dataframe tbody tr th {\n        vertical-align: top;\n    }\n\n    .dataframe thead th {\n        text-align: right;\n    }\n</style>\n<table border=\"1\" class=\"dataframe\">\n  <thead>\n    <tr style=\"text-align: right;\">\n      <th></th>\n      <th>Unnamed: 0</th>\n      <th>PartNumber</th>\n      <th>Inductance</th>\n      <th>SubCkt</th>\n    </tr>\n  </thead>\n  <tbody>\n    <tr>\n      <th>0</th>\n      <td>1504</td>\n      <td>XEL3520-112</td>\n      <td>0.000001</td>\n      <td>*=============================================...</td>\n    </tr>\n    <tr>\n      <th>1</th>\n      <td>1505</td>\n      <td>MVR1261C-112</td>\n      <td>0.000001</td>\n      <td>*=============================================...</td>\n    </tr>\n    <tr>\n      <th>2</th>\n      <td>1506</td>\n      <td>XAL6020-112</td>\n      <td>0.000001</td>\n      <td>*=============================================...</td>\n    </tr>\n    <tr>\n      <th>3</th>\n      <td>1507</td>\n      <td>XAL5020-122</td>\n      <td>0.000001</td>\n      <td>*=============================================...</td>\n    </tr>\n    <tr>\n      <th>4</th>\n      <td>1508</td>\n      <td>XAL7070-122</td>\n      <td>0.000001</td>\n      <td>*=============================================...</td>\n    </tr>\n    <tr>\n      <th>...</th>\n      <td>...</td>\n      <td>...</td>\n      <td>...</td>\n      <td>...</td>\n    </tr>\n    <tr>\n      <th>1694</th>\n      <td>3404</td>\n      <td>LPS5050-106</td>\n      <td>0.010000</td>\n      <td>*=============================================...</td>\n    </tr>\n    <tr>\n      <th>1695</th>\n      <td>3406</td>\n      <td>LPS6225-106</td>\n      <td>0.010000</td>\n      <td>*=============================================...</td>\n    </tr>\n    <tr>\n      <th>1696</th>\n      <td>3407</td>\n      <td>HA3778</td>\n      <td>7.700000</td>\n      <td>*=============================================...</td>\n    </tr>\n    <tr>\n      <th>1697</th>\n      <td>3408</td>\n      <td>GA3199</td>\n      <td>19.000000</td>\n      <td>*=============================================...</td>\n    </tr>\n    <tr>\n      <th>1698</th>\n      <td>3409</td>\n      <td>TA7849</td>\n      <td>84.000000</td>\n      <td>*=============================================...</td>\n    </tr>\n  </tbody>\n</table>\n<p>1699 rows × 4 columns</p>\n</div>"
     },
     "execution_count": 18,
     "metadata": {},
     "output_type": "execute_result"
    }
   ],
   "source": [
    "import pandas as pd\n",
    "inductors = pd.read_csv('CoilcraftInductors.csv')  # Get all the inductors from the file\n",
    "inductors = inductors[inductors['PartNumber'].str.contains(\"0201|0402|0603|0805|1008|1206|1210\") == False]\n",
    "inductors = inductors[inductors['Inductance'] > 1E-6].reset_index(drop=True)\n",
    "inductors"
   ],
   "metadata": {
    "collapsed": false,
    "ExecuteTime": {
     "start_time": "2023-05-17T12:31:02.962534Z",
     "end_time": "2023-05-17T12:31:02.988932Z"
    }
   }
  }
 ],
 "metadata": {
  "kernelspec": {
   "display_name": "Python 3",
   "language": "python",
   "name": "python3"
  },
  "language_info": {
   "codemirror_mode": {
    "name": "ipython",
    "version": 2
   },
   "file_extension": ".py",
   "mimetype": "text/x-python",
   "name": "python",
   "nbconvert_exporter": "python",
   "pygments_lexer": "ipython2",
   "version": "2.7.6"
  }
 },
 "nbformat": 4,
 "nbformat_minor": 0
}
