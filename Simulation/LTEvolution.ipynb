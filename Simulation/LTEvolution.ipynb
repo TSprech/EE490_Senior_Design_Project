{
 "cells": [
  {
   "cell_type": "code",
   "execution_count": 11,
   "metadata": {
    "collapsed": true,
    "ExecuteTime": {
     "start_time": "2023-05-16T16:35:01.981259Z",
     "end_time": "2023-05-16T16:35:01.985950Z"
    }
   },
   "outputs": [],
   "source": [
    "import numpy as np\n",
    "import random\n",
    "from pathlib import Path\n",
    "from LTTraceData import LTTraceData\n",
    "from PyLTSpice import SimCommander, RawRead, SimRunner, SpiceEditor\n",
    "import CoilcraftRandomSelect as crs\n",
    "import MurataRandomSelect as mrs\n",
    "\n",
    "high_side = True\n",
    "low_side = False"
   ]
  },
  {
   "cell_type": "code",
   "execution_count": 13,
   "outputs": [
    {
     "name": "stderr",
     "output_type": "stream",
     "text": [
      "SimRunner started\n",
      "SimRunner started\n",
      "SimRunner started\n",
      "SimRunner started\n",
      "SimRunner started\n",
      "SimRunner started\n"
     ]
    },
    {
     "name": "stdout",
     "output_type": "stream",
     "text": [
      "OK\n",
      "Tue May 16 16:36:46 2023 info: : Starting simulation 1\n",
      "Tue May 16 16:38:18 2023 info: Simulation Successful. Time elapsed: 00:00:00\n",
      "Tue May 16 16:38:18 2023 info: Simulation Finished. Calling...dummy_callback(rawfile, logfile)\n",
      "Reading the file with encoding  utf_16_le\n",
      "File contains 39 traces, reading 39\n",
      "Binary RAW file with Normal access\n",
      "-0.25221968\n",
      "12.127667\n",
      "4.0826626\n"
     ]
    }
   ],
   "source": [
    "def frequencytoltpulse(frequency, side: bool):\n",
    "    deadband = 8  # ns\n",
    "    period = 1 / (frequency / 1E9)  # Convert to Gigahertz to ensure the period will be in nanoseconds\n",
    "    if side == low_side:\n",
    "        return f\"PULSE(3.3 0 0n 1n 1n {period + (deadband * 2)}n {period * 2}n)\"\n",
    "    else:\n",
    "        return f\"PULSE(0 3.3 {deadband}n 1n 1n {period}n {period * 2}n)\"\n",
    "\n",
    "def simulate_circuit(fsw: int, ind_index: int, cap1_index: int, cap2_index: int, cap3_index: int, cap4_index: int):\n",
    "    ltc = SimRunner(output_folder='LTFiles')\n",
    "    netlist = SpiceEditor('LTFiles/EPC23102_Mine.asc')\n",
    "\n",
    "    netlist.set_component_value('VHSin', frequencytoltpulse(fsw, high_side))\n",
    "    netlist.set_component_value('VLSin', frequencytoltpulse(fsw, low_side))\n",
    "\n",
    "    netlist.add_instruction(crs.indexed_coilcraft_inductor(ind_index)['SubCkt'])\n",
    "    netlist.add_instruction(mrs.indexed_murata_capacitor('C1', cap1_index)['SubCkt'])\n",
    "    netlist.add_instruction(mrs.indexed_murata_capacitor('C2', cap2_index)['SubCkt'])\n",
    "    netlist.add_instruction(mrs.indexed_murata_capacitor('C3', cap3_index)['SubCkt'])\n",
    "    netlist.add_instruction(mrs.indexed_murata_capacitor('C4', cap4_index)['SubCkt'])\n",
    "\n",
    "    # netlist.write_netlist(Path(\"LTFiles/FullyCustom.net\"))\n",
    "    # raw, log = ltc.run_now(netlist, run_filename=\"FullyCustom.net\")\n",
    "    raw, log = ltc.run_now(netlist, run_filename=\"Test\")\n",
    "\n",
    "    ltr = RawRead(raw)\n",
    "\n",
    "    v_out = LTTraceData(ltr, 'V(vout)')\n",
    "    print(v_out.min)\n",
    "    print(v_out.max)\n",
    "    print(v_out.average)\n",
    "    v_out_max = v_out.max\n",
    "    v_out_min = v_out.min\n",
    "\n",
    "simulate_circuit(400000, 2906, 4000, 6000, 9000, 11500)"
   ],
   "metadata": {
    "collapsed": false,
    "ExecuteTime": {
     "start_time": "2023-05-16T16:36:44.993491Z",
     "end_time": "2023-05-16T16:38:20.272837Z"
    }
   }
  }
 ],
 "metadata": {
  "kernelspec": {
   "display_name": "Python 3",
   "language": "python",
   "name": "python3"
  },
  "language_info": {
   "codemirror_mode": {
    "name": "ipython",
    "version": 2
   },
   "file_extension": ".py",
   "mimetype": "text/x-python",
   "name": "python",
   "nbconvert_exporter": "python",
   "pygments_lexer": "ipython2",
   "version": "2.7.6"
  }
 },
 "nbformat": 4,
 "nbformat_minor": 0
}
