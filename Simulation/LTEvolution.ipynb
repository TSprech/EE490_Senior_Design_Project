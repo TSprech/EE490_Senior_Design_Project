{
 "cells": [
  {
   "cell_type": "code",
   "execution_count": 1,
   "metadata": {
    "collapsed": true,
    "ExecuteTime": {
     "start_time": "2023-05-16T17:42:49.748215Z",
     "end_time": "2023-05-16T17:42:50.164704Z"
    }
   },
   "outputs": [
    {
     "name": "stdout",
     "output_type": "stream",
     "text": [
      "Using LTspice installed in : 'C:\\Users\\treys\\AppData\\Local\\Programs\\ADI\\LTspice\\LTspice.exe' \n"
     ]
    }
   ],
   "source": [
    "import random\n",
    "import time\n",
    "import multiprocessing\n",
    "import numpy\n",
    "from PyLTSpice import RawRead, SimRunner, SpiceEditor\n",
    "from deap import algorithms\n",
    "from deap import base\n",
    "from deap import creator\n",
    "from deap import tools\n",
    "\n",
    "import CoilcraftRandomSelect as crs\n",
    "import MurataRandomSelect as mrs\n",
    "from LTTraceData import LTTraceData\n",
    "\n",
    "high_side = True\n",
    "low_side = False"
   ]
  },
  {
   "cell_type": "code",
   "execution_count": 2,
   "outputs": [],
   "source": [
    "def frequencytoltpulse(frequency, side: bool):\n",
    "    deadband = 8  # ns\n",
    "    period = 1 / (frequency / 1E9)  # Convert to Gigahertz to ensure the period will be in nanoseconds\n",
    "    if side == low_side:\n",
    "        return f\"PULSE(3.3 0 0n 1n 1n {period + (deadband * 2)}n {period * 2}n)\"\n",
    "    else:\n",
    "        return f\"PULSE(0 3.3 {deadband}n 1n 1n {period}n {period * 2}n)\"\n",
    "\n",
    "\n",
    "def simulate_circuit(fsw: int, ind_index: int, cap1_index: int, cap2_index: int, cap3_index: int, cap4_index: int):\n",
    "    ltc = SimRunner(output_folder='LTFiles', verbose=False)\n",
    "    netlist = SpiceEditor('LTFiles/EPC23102_Mine.asc')\n",
    "\n",
    "    netlist.set_component_value('VHSin', frequencytoltpulse(fsw, high_side))\n",
    "    netlist.set_component_value('VLSin', frequencytoltpulse(fsw, low_side))\n",
    "\n",
    "    netlist.add_instruction(crs.indexed_coilcraft_inductor(ind_index)['SubCkt'])\n",
    "    netlist.add_instruction(mrs.indexed_murata_capacitor('C1', cap1_index)['SubCkt'])\n",
    "    netlist.add_instruction(mrs.indexed_murata_capacitor('C2', cap2_index)['SubCkt'])\n",
    "    netlist.add_instruction(mrs.indexed_murata_capacitor('C3', cap3_index)['SubCkt'])\n",
    "    netlist.add_instruction(mrs.indexed_murata_capacitor('C4', cap4_index)['SubCkt'])\n",
    "\n",
    "    return ltc.run_now(netlist,\n",
    "                       run_filename=f\"I-{ind_index}_C1-{cap1_index}_C2-{cap2_index}_C3-{cap3_index}_C4-{cap4_index}\")\n",
    "\n",
    "# simulate_circuit(100000, 2906, 1000, 1000, 1000, 11500)\n",
    "# ltr = RawRead(raw)\n",
    "#\n",
    "# v_out = LTTraceData(ltr, 'V(vout)')\n",
    "# print(v_out.min)\n",
    "# print(v_out.max)\n",
    "# print(v_out.average)\n",
    "# v_out_max = v_out.max\n",
    "# v_out_min = v_out.min"
   ],
   "metadata": {
    "collapsed": false,
    "ExecuteTime": {
     "start_time": "2023-05-16T17:42:50.166713Z",
     "end_time": "2023-05-16T17:42:50.168979Z"
    }
   }
  },
  {
   "cell_type": "code",
   "execution_count": 3,
   "outputs": [],
   "source": [
    "def evaluate_individual(individual):\n",
    "    print(f'{individual[0]}, {individual[1]}, {individual[2]}, {individual[3]}, {individual[4]}, {individual[5]}')\n",
    "    raw, log = simulate_circuit(individual[0], individual[1], individual[2], individual[3], individual[4], individual[5])\n",
    "    if raw is None:\n",
    "        return 0,\n",
    "\n",
    "    ltr = RawRead(raw, verbose=False)\n",
    "\n",
    "    v_in = LTTraceData(ltr, 'V(vin)')\n",
    "    v_out = LTTraceData(ltr, 'V(vout)')\n",
    "    i_in = LTTraceData(ltr, 'I(Vs)')\n",
    "    i_out = LTTraceData(ltr, 'I(Il)')\n",
    "\n",
    "    if v_out.peak_to_peak > 1:\n",
    "        return 0,\n",
    "\n",
    "    if v_out.min < 3 or v_out.max > 7:\n",
    "        return 0,\n",
    "\n",
    "    return ((v_out.average * i_out.average) / (v_in.average * i_in.average)),"
   ],
   "metadata": {
    "collapsed": false,
    "ExecuteTime": {
     "start_time": "2023-05-16T17:42:50.170986Z",
     "end_time": "2023-05-16T17:42:50.179066Z"
    }
   }
  },
  {
   "cell_type": "code",
   "execution_count": null,
   "outputs": [
    {
     "name": "stdout",
     "output_type": "stream",
     "text": [
      "0.234375\n",
      "CPU count: 20\n"
     ]
    }
   ],
   "source": [
    "if __name__ == \"__main__\":\n",
    "    creator.create(\"FitnessMax\", base.Fitness, weights=(\n",
    "        1.0,))  # Positive weight means the goal is to achieve a maximum, negative would be useful if the evaluate function returned an error and the GA would work to minimize error\n",
    "    creator.create(\"Individual\", list,\n",
    "                   fitness=creator.FitnessMax)  # Create the individual definition which is just a list trying to achieve the goal specified above\n",
    "\n",
    "    toolbox = base.Toolbox()  # Create a toolbox which manages the specific parameters for evolution\n",
    "\n",
    "    # Attribute Generators (Genes)\n",
    "    # toolbox.register(\"attr_frequency\", random.randint, 100000, 3000000)  # Attribute to describe frequency, it will be generated using randint between 100kHz and 3MHz\n",
    "    # toolbox.register(\"attr_frequency\", random.randint, 100000, 300000)  # Attribute to describe frequency, it will be generated using randint between 100kHz and 3MHz\n",
    "    toolbox.register(\"attr_frequency\", random.randint, 100, 300)  # Attribute to describe frequency, it will be generated using randint between 100kHz and 3MHz\n",
    "    toolbox.register(\"attr_inductance\", random.randint, 0,\n",
    "                     3409)  # Attribute to describe inductance, same as above but it uses uniform to generate an inductance\n",
    "    toolbox.register(\"attr_capacitance_1\", random.randint, 0, 11672)  # Same as inductance\n",
    "    toolbox.register(\"attr_capacitance_2\", random.randint, 0, 11672)  # Same as inductance\n",
    "    toolbox.register(\"attr_capacitance_3\", random.randint, 0, 11672)  # Same as inductance\n",
    "    toolbox.register(\"attr_capacitance_4\", random.randint, 0, 11672)  # Same as inductance\n",
    "\n",
    "    # Individual Structure Initializer\n",
    "    toolbox.register(\"individual\", tools.initCycle, creator.Individual, (\n",
    "        toolbox.attr_frequency, toolbox.attr_inductance, toolbox.attr_capacitance_1, toolbox.attr_capacitance_2,\n",
    "        toolbox.attr_capacitance_3, toolbox.attr_capacitance_4))  #\n",
    "\n",
    "    # Population Structure Initializer\n",
    "    toolbox.register(\"population\", tools.initRepeat, list,\n",
    "                     toolbox.individual)  # Define the population to be a list of individuals\n",
    "\n",
    "    # Evolution Evaluation Metric\n",
    "    toolbox.register(\"evaluate\",\n",
    "                     evaluate_individual)  # Set evaluate up to use whatever evaluates the fitness of an individual, in this case, it works to maximize the return value of the passed function\n",
    "\n",
    "    # Crossover Operator\n",
    "    toolbox.register(\"mate\", tools.cxTwoPoint)  # Used when crossing 2 individuals\n",
    "\n",
    "\n",
    "    def mutBuck(individual,\n",
    "                indpb):  # TODO: Make this shift a small amount based on the current attribute value, not just random\n",
    "        if random.random() < indpb:\n",
    "            individual[0] = round((individual[0] + toolbox.attr_frequency()) / 6)\n",
    "        if random.random() < indpb:\n",
    "            individual[1] = round((individual[1] + toolbox.attr_inductance()) / 6)\n",
    "        if random.random() < indpb:\n",
    "            individual[2] = round((individual[2] + toolbox.attr_capacitance_1()) / 6)\n",
    "        if random.random() < indpb:\n",
    "            individual[3] = round((individual[3] + toolbox.attr_capacitance_2()) / 6)\n",
    "        if random.random() < indpb:\n",
    "            individual[4] = round((individual[4] + toolbox.attr_capacitance_3()) / 6)\n",
    "        if random.random() < indpb:\n",
    "            individual[5] = round((individual[5] + toolbox.attr_capacitance_4()) / 6)\n",
    "        return individual,\n",
    "\n",
    "\n",
    "    toolbox.register(\"mutate\", mutBuck,\n",
    "                     indpb=0.4)  # This defines the function used to mutate an individual, along with the probability threshold used inside the passed function\n",
    "\n",
    "    # operator for selecting individuals for breeding the next\n",
    "    # generation: each individual of the current generation\n",
    "    # is replaced by the 'fittest' (best) of three individuals\n",
    "    # drawn randomly from the current generation.\n",
    "    toolbox.register(\"select\", tools.selTournament, tournsize=3)\n",
    "\n",
    "    if __name__ == \"__main__\":\n",
    "        random.seed(128)\n",
    "        print(time.process_time())\n",
    "        cpu_count = multiprocessing.cpu_count()\n",
    "        print(f\"CPU count: {cpu_count}\")\n",
    "        pool = multiprocessing.Pool(cpu_count)\n",
    "        toolbox.register(\"map\", pool.map)\n",
    "\n",
    "        pop = toolbox.population(n=5)\n",
    "        hof = tools.HallOfFame(1)\n",
    "        stats = tools.Statistics(lambda ind: ind.fitness.values)\n",
    "        stats.register(\"avg\", numpy.mean)\n",
    "        stats.register(\"std\", numpy.std)\n",
    "        stats.register(\"min\", numpy.min)\n",
    "        stats.register(\"max\", numpy.max)\n",
    "\n",
    "        algorithms.eaSimple(pop, toolbox, cxpb=0.5, mutpb=0.8, ngen=10, stats=stats, halloffame=hof)\n",
    "        best_ind = tools.selBest(pop, 1)[0]\n",
    "        print(\"Best individual is %s, %s\" % (best_ind, best_ind.fitness.values))\n",
    "\n",
    "        print(time.process_time())\n",
    "        pool.close()\n"
   ],
   "metadata": {
    "collapsed": false,
    "pycharm": {
     "is_executing": true
    }
   }
  }
 ],
 "metadata": {
  "kernelspec": {
   "display_name": "Python 3",
   "language": "python",
   "name": "python3"
  },
  "language_info": {
   "codemirror_mode": {
    "name": "ipython",
    "version": 2
   },
   "file_extension": ".py",
   "mimetype": "text/x-python",
   "name": "python",
   "nbconvert_exporter": "python",
   "pygments_lexer": "ipython2",
   "version": "2.7.6"
  }
 },
 "nbformat": 4,
 "nbformat_minor": 0
}
